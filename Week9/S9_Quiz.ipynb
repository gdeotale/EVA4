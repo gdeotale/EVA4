{
  "nbformat": 4,
  "nbformat_minor": 0,
  "metadata": {
    "colab": {
      "name": "Untitled11.ipynb",
      "provenance": []
    },
    "kernelspec": {
      "name": "python3",
      "display_name": "Python 3"
    },
    "accelerator": "GPU"
  },
  "cells": [
    {
      "cell_type": "code",
      "metadata": {
        "id": "dnrr8TxNt0hM",
        "colab_type": "code",
        "colab": {
          "base_uri": "https://localhost:8080/",
          "height": 139
        },
        "outputId": "5d688fab-928f-4c81-feaa-60d340d54704"
      },
      "source": [
        "from google.colab import drive\n",
        "drive.mount('/content/gdrive')\n",
        "%cd /content/gdrive/My\\ Drive/Assignment/"
      ],
      "execution_count": 1,
      "outputs": [
        {
          "output_type": "stream",
          "text": [
            "Go to this URL in a browser: https://accounts.google.com/o/oauth2/auth?client_id=947318989803-6bn6qk8qdgf4n4g3pfee6491hc0brc4i.apps.googleusercontent.com&redirect_uri=urn%3aietf%3awg%3aoauth%3a2.0%3aoob&response_type=code&scope=email%20https%3a%2f%2fwww.googleapis.com%2fauth%2fdocs.test%20https%3a%2f%2fwww.googleapis.com%2fauth%2fdrive%20https%3a%2f%2fwww.googleapis.com%2fauth%2fdrive.photos.readonly%20https%3a%2f%2fwww.googleapis.com%2fauth%2fpeopleapi.readonly\n",
            "\n",
            "Enter your authorization code:\n",
            "··········\n",
            "Mounted at /content/gdrive\n",
            "/content/gdrive/My Drive/Assignment\n"
          ],
          "name": "stdout"
        }
      ]
    },
    {
      "cell_type": "code",
      "metadata": {
        "id": "uC8tgm3Vt2gk",
        "colab_type": "code",
        "colab": {
          "base_uri": "https://localhost:8080/",
          "height": 34
        },
        "outputId": "1252ed68-d878-4341-cdd9-5f3086ae572b"
      },
      "source": [
        "import datetime\n",
        "datetime.datetime.now()"
      ],
      "execution_count": 2,
      "outputs": [
        {
          "output_type": "execute_result",
          "data": {
            "text/plain": [
              "datetime.datetime(2020, 3, 15, 6, 10, 26, 869708)"
            ]
          },
          "metadata": {
            "tags": []
          },
          "execution_count": 2
        }
      ]
    },
    {
      "cell_type": "code",
      "metadata": {
        "id": "5mHHgxvVFjlC",
        "colab_type": "code",
        "colab": {}
      },
      "source": [
        "import transforme\n",
        "\n",
        "trainloader = transforme.trainloader\n",
        "testloader =  transforme.testloader\n",
        "classes = ('plane', 'car', 'bird', 'cat',\n",
        "           'deer', 'dog', 'frog', 'horse', 'ship', 'truck')\n"
      ],
      "execution_count": 0,
      "outputs": []
    },
    {
      "cell_type": "code",
      "metadata": {
        "id": "IZN9086AHbkj",
        "colab_type": "code",
        "colab": {
          "base_uri": "https://localhost:8080/",
          "height": 935
        },
        "outputId": "3c2d20bd-753d-4660-8c74-d1a98cf0f5bc"
      },
      "source": [
        "from Model_ import QuizDNN\n",
        "\n",
        "!pip install torchsummary\n",
        "from torchsummary import summary\n",
        "use_cuda = torch.cuda.is_available()\n",
        "device = torch.device(\"cuda\" if use_cuda else \"cpu\")\n",
        "print(device)\n",
        "net = QuizDNN.Net().to(device)\n",
        "summary(net, input_size=(3, 32, 32))"
      ],
      "execution_count": 68,
      "outputs": [
        {
          "output_type": "stream",
          "text": [
            "Requirement already satisfied: torchsummary in /usr/local/lib/python3.6/dist-packages (1.5.1)\n",
            "cuda\n",
            "----------------------------------------------------------------\n",
            "        Layer (type)               Output Shape         Param #\n",
            "================================================================\n",
            "            Conv2d-1           [-1, 32, 32, 32]              96\n",
            "            Conv2d-2           [-1, 32, 32, 32]             864\n",
            "       BatchNorm2d-3           [-1, 32, 32, 32]              64\n",
            "              ReLU-4           [-1, 32, 32, 32]               0\n",
            "           Dropout-5           [-1, 32, 32, 32]               0\n",
            "            Conv2d-6           [-1, 32, 32, 32]           9,216\n",
            "       BatchNorm2d-7           [-1, 32, 32, 32]              64\n",
            "              ReLU-8           [-1, 32, 32, 32]               0\n",
            "           Dropout-9           [-1, 32, 32, 32]               0\n",
            "        MaxPool2d-10           [-1, 32, 16, 16]               0\n",
            "           Conv2d-11           [-1, 64, 16, 16]           2,048\n",
            "           Conv2d-12           [-1, 64, 16, 16]          18,432\n",
            "      BatchNorm2d-13           [-1, 64, 16, 16]             128\n",
            "             ReLU-14           [-1, 64, 16, 16]               0\n",
            "          Dropout-15           [-1, 64, 16, 16]               0\n",
            "           Conv2d-16           [-1, 64, 16, 16]          36,864\n",
            "      BatchNorm2d-17           [-1, 64, 16, 16]             128\n",
            "             ReLU-18           [-1, 64, 16, 16]               0\n",
            "          Dropout-19           [-1, 64, 16, 16]               0\n",
            "           Conv2d-20           [-1, 64, 16, 16]          36,864\n",
            "      BatchNorm2d-21           [-1, 64, 16, 16]             128\n",
            "             ReLU-22           [-1, 64, 16, 16]               0\n",
            "          Dropout-23           [-1, 64, 16, 16]               0\n",
            "        MaxPool2d-24             [-1, 64, 8, 8]               0\n",
            "           Conv2d-25            [-1, 128, 8, 8]           8,192\n",
            "           Conv2d-26            [-1, 128, 8, 8]          73,728\n",
            "      BatchNorm2d-27            [-1, 128, 8, 8]             256\n",
            "             ReLU-28            [-1, 128, 8, 8]               0\n",
            "          Dropout-29            [-1, 128, 8, 8]               0\n",
            "           Conv2d-30            [-1, 128, 8, 8]         147,456\n",
            "      BatchNorm2d-31            [-1, 128, 8, 8]             256\n",
            "             ReLU-32            [-1, 128, 8, 8]               0\n",
            "          Dropout-33            [-1, 128, 8, 8]               0\n",
            "           Conv2d-34            [-1, 128, 8, 8]         147,456\n",
            "      BatchNorm2d-35            [-1, 128, 8, 8]             256\n",
            "             ReLU-36            [-1, 128, 8, 8]               0\n",
            "          Dropout-37            [-1, 128, 8, 8]               0\n",
            "        AvgPool2d-38            [-1, 128, 1, 1]               0\n",
            "           Linear-39                   [-1, 10]           1,290\n",
            "================================================================\n",
            "Total params: 483,786\n",
            "Trainable params: 483,786\n",
            "Non-trainable params: 0\n",
            "----------------------------------------------------------------\n",
            "Input size (MB): 0.01\n",
            "Forward/backward pass size (MB): 4.78\n",
            "Params size (MB): 1.85\n",
            "Estimated Total Size (MB): 6.64\n",
            "----------------------------------------------------------------\n"
          ],
          "name": "stdout"
        }
      ]
    },
    {
      "cell_type": "code",
      "metadata": {
        "id": "HnnV9Ets1kL6",
        "colab_type": "code",
        "colab": {}
      },
      "source": [
        "import torch.optim as optim\n",
        "from torch.optim.lr_scheduler import StepLR\n",
        "import torch.nn as nn\n",
        "criterion = nn.CrossEntropyLoss()\n",
        "optimizer = optim.SGD(net.parameters(), lr=0.1, momentum=0.9, weight_decay=0.0001)\n",
        "#scheduler = torch.optim.lr_scheduler.CyclicLR(optimizer, base_lr=0.001, max_lr=0.1)\n",
        "scheduler = StepLR(optimizer, step_size=10, gamma=0.5)"
      ],
      "execution_count": 0,
      "outputs": []
    },
    {
      "cell_type": "code",
      "metadata": {
        "id": "lyI1A_FpDfTZ",
        "colab_type": "code",
        "colab": {
          "base_uri": "https://localhost:8080/",
          "height": 1000
        },
        "outputId": "fc8a2681-66b5-4e61-f78d-ec13ab0312f6"
      },
      "source": [
        "import torch\n",
        "from tqdm import tqdm\n",
        "import traine\n",
        "import teste\n",
        "test_acc = []\n",
        "train_acc = []\n",
        "for epoch in range(50):  # loop over the dataset multiple times\n",
        "    if epoch>10:\n",
        "      scheduler.step()\n",
        "    for param_group in optimizer.param_groups:\n",
        "      print(\"lr= \",param_group['lr'])\n",
        "    train_acc.append(traine.train(net, device, trainloader, optimizer, criterion, epoch))\n",
        "    test_acc.append(teste.test(net, device, testloader))\n",
        "print('Finished Training')"
      ],
      "execution_count": 64,
      "outputs": [
        {
          "output_type": "stream",
          "text": [
            "\r  0%|          | 0/391 [00:00<?, ?it/s]"
          ],
          "name": "stderr"
        },
        {
          "output_type": "stream",
          "text": [
            "lr=  0.1\n"
          ],
          "name": "stdout"
        },
        {
          "output_type": "stream",
          "text": [
            "Epoch= 0 Loss=1.1142997741699219 Batch_id=390 Accuracy=62.50: 100%|██████████| 391/391 [00:17<00:00, 22.52it/s]\n",
            "100%|██████████| 79/79 [00:02<00:00, 38.48it/s]\n",
            "  0%|          | 0/391 [00:00<?, ?it/s]"
          ],
          "name": "stderr"
        },
        {
          "output_type": "stream",
          "text": [
            "Accuracy of the network on the 10000 test images: 46.45 %\n",
            "lr=  0.1\n"
          ],
          "name": "stdout"
        },
        {
          "output_type": "stream",
          "text": [
            "Epoch= 1 Loss=0.9115179181098938 Batch_id=390 Accuracy=70.00: 100%|██████████| 391/391 [00:17<00:00, 22.62it/s]\n",
            "100%|██████████| 79/79 [00:02<00:00, 38.03it/s]\n",
            "  0%|          | 0/391 [00:00<?, ?it/s]"
          ],
          "name": "stderr"
        },
        {
          "output_type": "stream",
          "text": [
            "Accuracy of the network on the 10000 test images: 62.19 %\n",
            "lr=  0.1\n"
          ],
          "name": "stdout"
        },
        {
          "output_type": "stream",
          "text": [
            "Epoch= 2 Loss=0.965552806854248 Batch_id=390 Accuracy=68.75: 100%|██████████| 391/391 [00:17<00:00, 22.87it/s]\n",
            "100%|██████████| 79/79 [00:02<00:00, 38.82it/s]\n",
            "  0%|          | 0/391 [00:00<?, ?it/s]"
          ],
          "name": "stderr"
        },
        {
          "output_type": "stream",
          "text": [
            "Accuracy of the network on the 10000 test images: 66.10 %\n",
            "lr=  0.1\n"
          ],
          "name": "stdout"
        },
        {
          "output_type": "stream",
          "text": [
            "Epoch= 3 Loss=1.0016279220581055 Batch_id=390 Accuracy=72.50: 100%|██████████| 391/391 [00:17<00:00, 25.08it/s]\n",
            "100%|██████████| 79/79 [00:02<00:00, 39.26it/s]\n",
            "  0%|          | 0/391 [00:00<?, ?it/s]"
          ],
          "name": "stderr"
        },
        {
          "output_type": "stream",
          "text": [
            "Accuracy of the network on the 10000 test images: 71.97 %\n",
            "lr=  0.1\n"
          ],
          "name": "stdout"
        },
        {
          "output_type": "stream",
          "text": [
            "Epoch= 4 Loss=0.9083660244941711 Batch_id=390 Accuracy=76.25: 100%|██████████| 391/391 [00:17<00:00, 25.34it/s]\n",
            "100%|██████████| 79/79 [00:02<00:00, 38.61it/s]\n",
            "  0%|          | 0/391 [00:00<?, ?it/s]"
          ],
          "name": "stderr"
        },
        {
          "output_type": "stream",
          "text": [
            "Accuracy of the network on the 10000 test images: 74.57 %\n",
            "lr=  0.1\n"
          ],
          "name": "stdout"
        },
        {
          "output_type": "stream",
          "text": [
            "Epoch= 5 Loss=0.6221988201141357 Batch_id=390 Accuracy=82.50: 100%|██████████| 391/391 [00:17<00:00, 24.30it/s]\n",
            "100%|██████████| 79/79 [00:02<00:00, 38.85it/s]\n",
            "  0%|          | 0/391 [00:00<?, ?it/s]"
          ],
          "name": "stderr"
        },
        {
          "output_type": "stream",
          "text": [
            "Accuracy of the network on the 10000 test images: 76.73 %\n",
            "lr=  0.1\n"
          ],
          "name": "stdout"
        },
        {
          "output_type": "stream",
          "text": [
            "Epoch= 6 Loss=0.674210786819458 Batch_id=390 Accuracy=81.25: 100%|██████████| 391/391 [00:17<00:00, 22.42it/s]\n",
            "100%|██████████| 79/79 [00:02<00:00, 38.86it/s]\n",
            "  0%|          | 0/391 [00:00<?, ?it/s]"
          ],
          "name": "stderr"
        },
        {
          "output_type": "stream",
          "text": [
            "Accuracy of the network on the 10000 test images: 73.29 %\n",
            "lr=  0.1\n"
          ],
          "name": "stdout"
        },
        {
          "output_type": "stream",
          "text": [
            "Epoch= 7 Loss=0.6206971406936646 Batch_id=390 Accuracy=83.75: 100%|██████████| 391/391 [00:17<00:00, 25.25it/s]\n",
            "100%|██████████| 79/79 [00:02<00:00, 37.63it/s]\n",
            "  0%|          | 0/391 [00:00<?, ?it/s]"
          ],
          "name": "stderr"
        },
        {
          "output_type": "stream",
          "text": [
            "Accuracy of the network on the 10000 test images: 78.64 %\n",
            "lr=  0.1\n"
          ],
          "name": "stdout"
        },
        {
          "output_type": "stream",
          "text": [
            "Epoch= 8 Loss=0.6526398062705994 Batch_id=390 Accuracy=85.00: 100%|██████████| 391/391 [00:17<00:00, 22.35it/s]\n",
            "100%|██████████| 79/79 [00:02<00:00, 36.51it/s]\n",
            "  0%|          | 0/391 [00:00<?, ?it/s]"
          ],
          "name": "stderr"
        },
        {
          "output_type": "stream",
          "text": [
            "Accuracy of the network on the 10000 test images: 77.99 %\n",
            "lr=  0.1\n"
          ],
          "name": "stdout"
        },
        {
          "output_type": "stream",
          "text": [
            "Epoch= 9 Loss=0.7233452200889587 Batch_id=390 Accuracy=86.25: 100%|██████████| 391/391 [00:17<00:00, 25.04it/s]\n",
            "100%|██████████| 79/79 [00:02<00:00, 36.56it/s]\n",
            "  0%|          | 0/391 [00:00<?, ?it/s]"
          ],
          "name": "stderr"
        },
        {
          "output_type": "stream",
          "text": [
            "Accuracy of the network on the 10000 test images: 80.03 %\n",
            "lr=  0.1\n"
          ],
          "name": "stdout"
        },
        {
          "output_type": "stream",
          "text": [
            "Epoch= 10 Loss=0.3549653887748718 Batch_id=390 Accuracy=88.75: 100%|██████████| 391/391 [00:17<00:00, 24.18it/s]\n",
            "100%|██████████| 79/79 [00:01<00:00, 39.72it/s]\n",
            "  0%|          | 0/391 [00:00<?, ?it/s]"
          ],
          "name": "stderr"
        },
        {
          "output_type": "stream",
          "text": [
            "Accuracy of the network on the 10000 test images: 80.90 %\n",
            "lr=  0.1\n"
          ],
          "name": "stdout"
        },
        {
          "output_type": "stream",
          "text": [
            "Epoch= 11 Loss=0.44511017203330994 Batch_id=390 Accuracy=88.75: 100%|██████████| 391/391 [00:17<00:00, 22.63it/s]\n",
            "100%|██████████| 79/79 [00:02<00:00, 37.98it/s]\n",
            "  0%|          | 0/391 [00:00<?, ?it/s]"
          ],
          "name": "stderr"
        },
        {
          "output_type": "stream",
          "text": [
            "Accuracy of the network on the 10000 test images: 80.77 %\n",
            "lr=  0.1\n"
          ],
          "name": "stdout"
        },
        {
          "output_type": "stream",
          "text": [
            "Epoch= 12 Loss=0.4554043710231781 Batch_id=390 Accuracy=87.50: 100%|██████████| 391/391 [00:17<00:00, 25.30it/s]\n",
            "100%|██████████| 79/79 [00:02<00:00, 39.36it/s]\n",
            "  0%|          | 0/391 [00:00<?, ?it/s]"
          ],
          "name": "stderr"
        },
        {
          "output_type": "stream",
          "text": [
            "Accuracy of the network on the 10000 test images: 81.39 %\n",
            "lr=  0.1\n"
          ],
          "name": "stdout"
        },
        {
          "output_type": "stream",
          "text": [
            "Epoch= 13 Loss=0.539177656173706 Batch_id=390 Accuracy=82.50: 100%|██████████| 391/391 [00:17<00:00, 22.64it/s]\n",
            "100%|██████████| 79/79 [00:02<00:00, 37.35it/s]\n",
            "  0%|          | 0/391 [00:00<?, ?it/s]"
          ],
          "name": "stderr"
        },
        {
          "output_type": "stream",
          "text": [
            "Accuracy of the network on the 10000 test images: 81.97 %\n",
            "lr=  0.1\n"
          ],
          "name": "stdout"
        },
        {
          "output_type": "stream",
          "text": [
            "Epoch= 14 Loss=0.6247531175613403 Batch_id=390 Accuracy=85.00: 100%|██████████| 391/391 [00:17<00:00, 22.65it/s]\n",
            "100%|██████████| 79/79 [00:02<00:00, 38.87it/s]\n",
            "  0%|          | 0/391 [00:00<?, ?it/s]"
          ],
          "name": "stderr"
        },
        {
          "output_type": "stream",
          "text": [
            "Accuracy of the network on the 10000 test images: 82.78 %\n",
            "lr=  0.1\n"
          ],
          "name": "stdout"
        },
        {
          "output_type": "stream",
          "text": [
            "Epoch= 15 Loss=0.49801865220069885 Batch_id=390 Accuracy=88.75: 100%|██████████| 391/391 [00:17<00:00, 24.49it/s]\n",
            "100%|██████████| 79/79 [00:02<00:00, 38.05it/s]\n",
            "  0%|          | 0/391 [00:00<?, ?it/s]"
          ],
          "name": "stderr"
        },
        {
          "output_type": "stream",
          "text": [
            "Accuracy of the network on the 10000 test images: 84.55 %\n",
            "lr=  0.1\n"
          ],
          "name": "stdout"
        },
        {
          "output_type": "stream",
          "text": [
            "Epoch= 16 Loss=0.3098565638065338 Batch_id=390 Accuracy=91.25: 100%|██████████| 391/391 [00:17<00:00, 22.87it/s]\n",
            "100%|██████████| 79/79 [00:02<00:00, 38.77it/s]\n",
            "  0%|          | 0/391 [00:00<?, ?it/s]"
          ],
          "name": "stderr"
        },
        {
          "output_type": "stream",
          "text": [
            "Accuracy of the network on the 10000 test images: 82.80 %\n",
            "lr=  0.1\n"
          ],
          "name": "stdout"
        },
        {
          "output_type": "stream",
          "text": [
            "Epoch= 17 Loss=0.5199774503707886 Batch_id=390 Accuracy=85.00: 100%|██████████| 391/391 [00:16<00:00, 25.42it/s]\n",
            "100%|██████████| 79/79 [00:01<00:00, 48.23it/s]\n",
            "  0%|          | 0/391 [00:00<?, ?it/s]"
          ],
          "name": "stderr"
        },
        {
          "output_type": "stream",
          "text": [
            "Accuracy of the network on the 10000 test images: 81.66 %\n",
            "lr=  0.1\n"
          ],
          "name": "stdout"
        },
        {
          "output_type": "stream",
          "text": [
            "Epoch= 18 Loss=0.44801998138427734 Batch_id=390 Accuracy=85.00: 100%|██████████| 391/391 [00:17<00:00, 24.77it/s]\n",
            "100%|██████████| 79/79 [00:02<00:00, 36.83it/s]\n",
            "  0%|          | 0/391 [00:00<?, ?it/s]"
          ],
          "name": "stderr"
        },
        {
          "output_type": "stream",
          "text": [
            "Accuracy of the network on the 10000 test images: 83.34 %\n",
            "lr=  0.1\n"
          ],
          "name": "stdout"
        },
        {
          "output_type": "stream",
          "text": [
            "Epoch= 19 Loss=0.2958812713623047 Batch_id=390 Accuracy=88.75: 100%|██████████| 391/391 [00:17<00:00, 22.81it/s]\n",
            "100%|██████████| 79/79 [00:02<00:00, 38.85it/s]\n",
            "  0%|          | 0/391 [00:00<?, ?it/s]"
          ],
          "name": "stderr"
        },
        {
          "output_type": "stream",
          "text": [
            "Accuracy of the network on the 10000 test images: 84.26 %\n",
            "lr=  0.05\n"
          ],
          "name": "stdout"
        },
        {
          "output_type": "stream",
          "text": [
            "Epoch= 20 Loss=0.3068902790546417 Batch_id=390 Accuracy=85.00: 100%|██████████| 391/391 [00:16<00:00, 25.18it/s]\n",
            "100%|██████████| 79/79 [00:01<00:00, 40.12it/s]\n",
            "  0%|          | 0/391 [00:00<?, ?it/s]"
          ],
          "name": "stderr"
        },
        {
          "output_type": "stream",
          "text": [
            "Accuracy of the network on the 10000 test images: 86.31 %\n",
            "lr=  0.05\n"
          ],
          "name": "stdout"
        },
        {
          "output_type": "stream",
          "text": [
            "Epoch= 21 Loss=0.38775020837783813 Batch_id=390 Accuracy=90.00: 100%|██████████| 391/391 [00:16<00:00, 23.11it/s]\n",
            "100%|██████████| 79/79 [00:01<00:00, 40.28it/s]\n",
            "  0%|          | 0/391 [00:00<?, ?it/s]"
          ],
          "name": "stderr"
        },
        {
          "output_type": "stream",
          "text": [
            "Accuracy of the network on the 10000 test images: 85.72 %\n",
            "lr=  0.05\n"
          ],
          "name": "stdout"
        },
        {
          "output_type": "stream",
          "text": [
            "Epoch= 22 Loss=0.3860267400741577 Batch_id=390 Accuracy=87.50: 100%|██████████| 391/391 [00:17<00:00, 22.85it/s]\n",
            "100%|██████████| 79/79 [00:02<00:00, 38.26it/s]\n",
            "  0%|          | 0/391 [00:00<?, ?it/s]"
          ],
          "name": "stderr"
        },
        {
          "output_type": "stream",
          "text": [
            "Accuracy of the network on the 10000 test images: 85.78 %\n",
            "lr=  0.05\n"
          ],
          "name": "stdout"
        },
        {
          "output_type": "stream",
          "text": [
            "Epoch= 23 Loss=0.14799699187278748 Batch_id=390 Accuracy=98.75: 100%|██████████| 391/391 [00:16<00:00, 25.29it/s]\n",
            "100%|██████████| 79/79 [00:02<00:00, 38.98it/s]\n",
            "  0%|          | 0/391 [00:00<?, ?it/s]"
          ],
          "name": "stderr"
        },
        {
          "output_type": "stream",
          "text": [
            "Accuracy of the network on the 10000 test images: 87.46 %\n",
            "lr=  0.05\n"
          ],
          "name": "stdout"
        },
        {
          "output_type": "stream",
          "text": [
            "Epoch= 24 Loss=0.35597801208496094 Batch_id=390 Accuracy=92.50: 100%|██████████| 391/391 [00:17<00:00, 22.98it/s]\n",
            "100%|██████████| 79/79 [00:02<00:00, 38.52it/s]\n",
            "  0%|          | 0/391 [00:00<?, ?it/s]"
          ],
          "name": "stderr"
        },
        {
          "output_type": "stream",
          "text": [
            "Accuracy of the network on the 10000 test images: 85.85 %\n",
            "lr=  0.05\n"
          ],
          "name": "stdout"
        },
        {
          "output_type": "stream",
          "text": [
            "Epoch= 25 Loss=0.5739557147026062 Batch_id=390 Accuracy=83.75: 100%|██████████| 391/391 [00:16<00:00, 24.54it/s]\n",
            "100%|██████████| 79/79 [00:02<00:00, 37.50it/s]\n",
            "  0%|          | 0/391 [00:00<?, ?it/s]"
          ],
          "name": "stderr"
        },
        {
          "output_type": "stream",
          "text": [
            "Accuracy of the network on the 10000 test images: 87.74 %\n",
            "lr=  0.05\n"
          ],
          "name": "stdout"
        },
        {
          "output_type": "stream",
          "text": [
            "Epoch= 26 Loss=0.26204192638397217 Batch_id=390 Accuracy=93.75: 100%|██████████| 391/391 [00:17<00:00, 25.52it/s]\n",
            "100%|██████████| 79/79 [00:01<00:00, 41.45it/s]\n",
            "  0%|          | 0/391 [00:00<?, ?it/s]"
          ],
          "name": "stderr"
        },
        {
          "output_type": "stream",
          "text": [
            "Accuracy of the network on the 10000 test images: 86.19 %\n",
            "lr=  0.05\n"
          ],
          "name": "stdout"
        },
        {
          "output_type": "stream",
          "text": [
            "Epoch= 27 Loss=0.34194427728652954 Batch_id=390 Accuracy=88.75: 100%|██████████| 391/391 [00:17<00:00, 22.91it/s]\n",
            "100%|██████████| 79/79 [00:02<00:00, 37.78it/s]\n",
            "  0%|          | 0/391 [00:00<?, ?it/s]"
          ],
          "name": "stderr"
        },
        {
          "output_type": "stream",
          "text": [
            "Accuracy of the network on the 10000 test images: 86.93 %\n",
            "lr=  0.05\n"
          ],
          "name": "stdout"
        },
        {
          "output_type": "stream",
          "text": [
            "Epoch= 28 Loss=0.3437870442867279 Batch_id=390 Accuracy=85.00: 100%|██████████| 391/391 [00:16<00:00, 25.61it/s]\n",
            "100%|██████████| 79/79 [00:01<00:00, 39.88it/s]\n",
            "  0%|          | 0/391 [00:00<?, ?it/s]"
          ],
          "name": "stderr"
        },
        {
          "output_type": "stream",
          "text": [
            "Accuracy of the network on the 10000 test images: 87.17 %\n",
            "lr=  0.05\n"
          ],
          "name": "stdout"
        },
        {
          "output_type": "stream",
          "text": [
            "Epoch= 29 Loss=0.336947500705719 Batch_id=390 Accuracy=87.50: 100%|██████████| 391/391 [00:17<00:00, 22.76it/s]\n",
            "100%|██████████| 79/79 [00:02<00:00, 38.99it/s]\n",
            "  0%|          | 0/391 [00:00<?, ?it/s]"
          ],
          "name": "stderr"
        },
        {
          "output_type": "stream",
          "text": [
            "Accuracy of the network on the 10000 test images: 86.99 %\n",
            "lr=  0.025\n"
          ],
          "name": "stdout"
        },
        {
          "output_type": "stream",
          "text": [
            "Epoch= 30 Loss=0.22634181380271912 Batch_id=390 Accuracy=91.25: 100%|██████████| 391/391 [00:16<00:00, 23.10it/s]\n",
            "100%|██████████| 79/79 [00:01<00:00, 39.68it/s]\n",
            "  0%|          | 0/391 [00:00<?, ?it/s]"
          ],
          "name": "stderr"
        },
        {
          "output_type": "stream",
          "text": [
            "Accuracy of the network on the 10000 test images: 88.01 %\n",
            "lr=  0.025\n"
          ],
          "name": "stdout"
        },
        {
          "output_type": "stream",
          "text": [
            "Epoch= 31 Loss=0.14860482513904572 Batch_id=390 Accuracy=93.75: 100%|██████████| 391/391 [00:17<00:00, 25.38it/s]\n",
            "100%|██████████| 79/79 [00:02<00:00, 39.20it/s]\n",
            "  0%|          | 0/391 [00:00<?, ?it/s]"
          ],
          "name": "stderr"
        },
        {
          "output_type": "stream",
          "text": [
            "Accuracy of the network on the 10000 test images: 87.87 %\n",
            "lr=  0.025\n"
          ],
          "name": "stdout"
        },
        {
          "output_type": "stream",
          "text": [
            "Epoch= 32 Loss=0.1661687195301056 Batch_id=390 Accuracy=92.50: 100%|██████████| 391/391 [00:17<00:00, 25.49it/s]\n",
            "100%|██████████| 79/79 [00:01<00:00, 40.47it/s]\n",
            "  0%|          | 0/391 [00:00<?, ?it/s]"
          ],
          "name": "stderr"
        },
        {
          "output_type": "stream",
          "text": [
            "Accuracy of the network on the 10000 test images: 88.24 %\n",
            "lr=  0.025\n"
          ],
          "name": "stdout"
        },
        {
          "output_type": "stream",
          "text": [
            "Epoch= 33 Loss=0.3209027647972107 Batch_id=390 Accuracy=93.75: 100%|██████████| 391/391 [00:16<00:00, 25.70it/s]\n",
            "100%|██████████| 79/79 [00:01<00:00, 39.92it/s]\n",
            "  0%|          | 0/391 [00:00<?, ?it/s]"
          ],
          "name": "stderr"
        },
        {
          "output_type": "stream",
          "text": [
            "Accuracy of the network on the 10000 test images: 87.88 %\n",
            "lr=  0.025\n"
          ],
          "name": "stdout"
        },
        {
          "output_type": "stream",
          "text": [
            "Epoch= 34 Loss=0.23693542182445526 Batch_id=390 Accuracy=92.50: 100%|██████████| 391/391 [00:17<00:00, 25.28it/s]\n",
            "100%|██████████| 79/79 [00:02<00:00, 39.15it/s]\n",
            "  0%|          | 0/391 [00:00<?, ?it/s]"
          ],
          "name": "stderr"
        },
        {
          "output_type": "stream",
          "text": [
            "Accuracy of the network on the 10000 test images: 87.86 %\n",
            "lr=  0.025\n"
          ],
          "name": "stdout"
        },
        {
          "output_type": "stream",
          "text": [
            "Epoch= 35 Loss=0.2298326939344406 Batch_id=390 Accuracy=96.25: 100%|██████████| 391/391 [00:17<00:00, 25.11it/s]\n",
            "100%|██████████| 79/79 [00:01<00:00, 39.85it/s]\n",
            "  0%|          | 0/391 [00:00<?, ?it/s]"
          ],
          "name": "stderr"
        },
        {
          "output_type": "stream",
          "text": [
            "Accuracy of the network on the 10000 test images: 88.03 %\n",
            "lr=  0.025\n"
          ],
          "name": "stdout"
        },
        {
          "output_type": "stream",
          "text": [
            "Epoch= 36 Loss=0.2676464319229126 Batch_id=390 Accuracy=92.50: 100%|██████████| 391/391 [00:16<00:00, 23.04it/s]\n",
            "100%|██████████| 79/79 [00:01<00:00, 49.17it/s]\n",
            "  0%|          | 0/391 [00:00<?, ?it/s]"
          ],
          "name": "stderr"
        },
        {
          "output_type": "stream",
          "text": [
            "Accuracy of the network on the 10000 test images: 88.53 %\n",
            "lr=  0.025\n"
          ],
          "name": "stdout"
        },
        {
          "output_type": "stream",
          "text": [
            "Epoch= 37 Loss=0.34460240602493286 Batch_id=390 Accuracy=93.75: 100%|██████████| 391/391 [00:17<00:00, 22.72it/s]\n",
            "100%|██████████| 79/79 [00:02<00:00, 38.39it/s]\n",
            "  0%|          | 0/391 [00:00<?, ?it/s]"
          ],
          "name": "stderr"
        },
        {
          "output_type": "stream",
          "text": [
            "Accuracy of the network on the 10000 test images: 87.51 %\n",
            "lr=  0.025\n"
          ],
          "name": "stdout"
        },
        {
          "output_type": "stream",
          "text": [
            "Epoch= 38 Loss=0.254204660654068 Batch_id=390 Accuracy=93.75: 100%|██████████| 391/391 [00:17<00:00, 22.67it/s]\n",
            "100%|██████████| 79/79 [00:02<00:00, 36.36it/s]\n",
            "  0%|          | 0/391 [00:00<?, ?it/s]"
          ],
          "name": "stderr"
        },
        {
          "output_type": "stream",
          "text": [
            "Accuracy of the network on the 10000 test images: 88.11 %\n",
            "lr=  0.025\n"
          ],
          "name": "stdout"
        },
        {
          "output_type": "stream",
          "text": [
            "Epoch= 39 Loss=0.19231325387954712 Batch_id=390 Accuracy=93.75: 100%|██████████| 391/391 [00:17<00:00, 22.63it/s]\n",
            "100%|██████████| 79/79 [00:02<00:00, 36.03it/s]\n",
            "  0%|          | 0/391 [00:00<?, ?it/s]"
          ],
          "name": "stderr"
        },
        {
          "output_type": "stream",
          "text": [
            "Accuracy of the network on the 10000 test images: 88.05 %\n",
            "lr=  0.0125\n"
          ],
          "name": "stdout"
        },
        {
          "output_type": "stream",
          "text": [
            "Epoch= 40 Loss=0.11346523463726044 Batch_id=390 Accuracy=96.25: 100%|██████████| 391/391 [00:17<00:00, 25.09it/s]\n",
            "100%|██████████| 79/79 [00:02<00:00, 36.05it/s]\n",
            "  0%|          | 0/391 [00:00<?, ?it/s]"
          ],
          "name": "stderr"
        },
        {
          "output_type": "stream",
          "text": [
            "Accuracy of the network on the 10000 test images: 89.20 %\n",
            "lr=  0.0125\n"
          ],
          "name": "stdout"
        },
        {
          "output_type": "stream",
          "text": [
            "Epoch= 41 Loss=0.17599588632583618 Batch_id=390 Accuracy=92.50: 100%|██████████| 391/391 [00:17<00:00, 22.63it/s]\n",
            "100%|██████████| 79/79 [00:02<00:00, 37.69it/s]\n",
            "  0%|          | 0/391 [00:00<?, ?it/s]"
          ],
          "name": "stderr"
        },
        {
          "output_type": "stream",
          "text": [
            "Accuracy of the network on the 10000 test images: 88.75 %\n",
            "lr=  0.0125\n"
          ],
          "name": "stdout"
        },
        {
          "output_type": "stream",
          "text": [
            "Epoch= 42 Loss=0.2920311987400055 Batch_id=390 Accuracy=95.00: 100%|██████████| 391/391 [00:17<00:00, 22.85it/s]\n",
            "100%|██████████| 79/79 [00:02<00:00, 39.49it/s]\n",
            "  0%|          | 0/391 [00:00<?, ?it/s]"
          ],
          "name": "stderr"
        },
        {
          "output_type": "stream",
          "text": [
            "Accuracy of the network on the 10000 test images: 87.95 %\n",
            "lr=  0.0125\n"
          ],
          "name": "stdout"
        },
        {
          "output_type": "stream",
          "text": [
            "Epoch= 43 Loss=0.2338486611843109 Batch_id=390 Accuracy=96.25: 100%|██████████| 391/391 [00:17<00:00, 22.82it/s]\n",
            "100%|██████████| 79/79 [00:02<00:00, 37.12it/s]\n",
            "  0%|          | 0/391 [00:00<?, ?it/s]"
          ],
          "name": "stderr"
        },
        {
          "output_type": "stream",
          "text": [
            "Accuracy of the network on the 10000 test images: 89.16 %\n",
            "lr=  0.0125\n"
          ],
          "name": "stdout"
        },
        {
          "output_type": "stream",
          "text": [
            "Epoch= 44 Loss=0.15461298823356628 Batch_id=390 Accuracy=95.00: 100%|██████████| 391/391 [00:17<00:00, 24.97it/s]\n",
            "100%|██████████| 79/79 [00:02<00:00, 38.67it/s]\n",
            "  0%|          | 0/391 [00:00<?, ?it/s]"
          ],
          "name": "stderr"
        },
        {
          "output_type": "stream",
          "text": [
            "Accuracy of the network on the 10000 test images: 89.15 %\n",
            "lr=  0.0125\n"
          ],
          "name": "stdout"
        },
        {
          "output_type": "stream",
          "text": [
            "Epoch= 45 Loss=0.22564883530139923 Batch_id=390 Accuracy=88.75: 100%|██████████| 391/391 [00:17<00:00, 25.00it/s]\n",
            "100%|██████████| 79/79 [00:02<00:00, 37.83it/s]\n",
            "  0%|          | 0/391 [00:00<?, ?it/s]"
          ],
          "name": "stderr"
        },
        {
          "output_type": "stream",
          "text": [
            "Accuracy of the network on the 10000 test images: 88.60 %\n",
            "lr=  0.0125\n"
          ],
          "name": "stdout"
        },
        {
          "output_type": "stream",
          "text": [
            "Epoch= 46 Loss=0.08073629438877106 Batch_id=390 Accuracy=93.75: 100%|██████████| 391/391 [00:17<00:00, 22.97it/s]\n",
            "100%|██████████| 79/79 [00:02<00:00, 39.20it/s]\n",
            "  0%|          | 0/391 [00:00<?, ?it/s]"
          ],
          "name": "stderr"
        },
        {
          "output_type": "stream",
          "text": [
            "Accuracy of the network on the 10000 test images: 89.21 %\n",
            "lr=  0.0125\n"
          ],
          "name": "stdout"
        },
        {
          "output_type": "stream",
          "text": [
            "Epoch= 47 Loss=0.21739435195922852 Batch_id=390 Accuracy=92.50: 100%|██████████| 391/391 [00:17<00:00, 25.15it/s]\n",
            "100%|██████████| 79/79 [00:02<00:00, 39.29it/s]\n",
            "  0%|          | 0/391 [00:00<?, ?it/s]"
          ],
          "name": "stderr"
        },
        {
          "output_type": "stream",
          "text": [
            "Accuracy of the network on the 10000 test images: 88.87 %\n",
            "lr=  0.0125\n"
          ],
          "name": "stdout"
        },
        {
          "output_type": "stream",
          "text": [
            "Epoch= 48 Loss=0.18934239447116852 Batch_id=390 Accuracy=93.75: 100%|██████████| 391/391 [00:17<00:00, 22.68it/s]\n",
            "100%|██████████| 79/79 [00:02<00:00, 38.97it/s]\n",
            "  0%|          | 0/391 [00:00<?, ?it/s]"
          ],
          "name": "stderr"
        },
        {
          "output_type": "stream",
          "text": [
            "Accuracy of the network on the 10000 test images: 88.78 %\n",
            "lr=  0.0125\n"
          ],
          "name": "stdout"
        },
        {
          "output_type": "stream",
          "text": [
            "Epoch= 49 Loss=0.12306861579418182 Batch_id=390 Accuracy=96.25: 100%|██████████| 391/391 [00:16<00:00, 25.44it/s]\n",
            "100%|██████████| 79/79 [00:02<00:00, 39.15it/s]"
          ],
          "name": "stderr"
        },
        {
          "output_type": "stream",
          "text": [
            "Accuracy of the network on the 10000 test images: 88.42 %\n",
            "Finished Training\n"
          ],
          "name": "stdout"
        },
        {
          "output_type": "stream",
          "text": [
            "\n"
          ],
          "name": "stderr"
        }
      ]
    },
    {
      "cell_type": "code",
      "metadata": {
        "id": "iElzf06aDj0j",
        "colab_type": "code",
        "colab": {}
      },
      "source": [
        ""
      ],
      "execution_count": 0,
      "outputs": []
    }
  ]
}