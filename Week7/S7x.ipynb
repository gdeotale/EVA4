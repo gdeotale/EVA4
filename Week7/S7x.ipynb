{
  "nbformat": 4,
  "nbformat_minor": 0,
  "metadata": {
    "kernelspec": {
      "name": "python3",
      "display_name": "Python 3"
    },
    "language_info": {
      "codemirror_mode": {
        "name": "ipython",
        "version": 3
      },
      "file_extension": ".py",
      "mimetype": "text/x-python",
      "name": "python",
      "nbconvert_exporter": "python",
      "pygments_lexer": "ipython3",
      "version": "3.6.6"
    },
    "colab": {
      "name": "S7x.ipynb",
      "provenance": [],
      "collapsed_sections": []
    },
    "accelerator": "GPU",
    "widgets": {
      "application/vnd.jupyter.widget-state+json": {
        "0366742d1e1d4005824ecd521aeedde0": {
          "model_module": "@jupyter-widgets/controls",
          "model_name": "HBoxModel",
          "state": {
            "_view_name": "HBoxView",
            "_dom_classes": [],
            "_model_name": "HBoxModel",
            "_view_module": "@jupyter-widgets/controls",
            "_model_module_version": "1.5.0",
            "_view_count": null,
            "_view_module_version": "1.5.0",
            "box_style": "",
            "layout": "IPY_MODEL_2050ddc8271546a4ab7fb22481ca86c0",
            "_model_module": "@jupyter-widgets/controls",
            "children": [
              "IPY_MODEL_1f95b4282029486b97a7e08fa56a331d",
              "IPY_MODEL_607b7efb28ec4be5909c4d0c2c5745d5"
            ]
          }
        },
        "2050ddc8271546a4ab7fb22481ca86c0": {
          "model_module": "@jupyter-widgets/base",
          "model_name": "LayoutModel",
          "state": {
            "_view_name": "LayoutView",
            "grid_template_rows": null,
            "right": null,
            "justify_content": null,
            "_view_module": "@jupyter-widgets/base",
            "overflow": null,
            "_model_module_version": "1.2.0",
            "_view_count": null,
            "flex_flow": null,
            "width": null,
            "min_width": null,
            "border": null,
            "align_items": null,
            "bottom": null,
            "_model_module": "@jupyter-widgets/base",
            "top": null,
            "grid_column": null,
            "overflow_y": null,
            "overflow_x": null,
            "grid_auto_flow": null,
            "grid_area": null,
            "grid_template_columns": null,
            "flex": null,
            "_model_name": "LayoutModel",
            "justify_items": null,
            "grid_row": null,
            "max_height": null,
            "align_content": null,
            "visibility": null,
            "align_self": null,
            "height": null,
            "min_height": null,
            "padding": null,
            "grid_auto_rows": null,
            "grid_gap": null,
            "max_width": null,
            "order": null,
            "_view_module_version": "1.2.0",
            "grid_template_areas": null,
            "object_position": null,
            "object_fit": null,
            "grid_auto_columns": null,
            "margin": null,
            "display": null,
            "left": null
          }
        },
        "1f95b4282029486b97a7e08fa56a331d": {
          "model_module": "@jupyter-widgets/controls",
          "model_name": "IntProgressModel",
          "state": {
            "_view_name": "ProgressView",
            "style": "IPY_MODEL_21fcb0343edc4c64bd9b53786da9b37f",
            "_dom_classes": [],
            "description": "",
            "_model_name": "IntProgressModel",
            "bar_style": "success",
            "max": 1,
            "_view_module": "@jupyter-widgets/controls",
            "_model_module_version": "1.5.0",
            "value": 1,
            "_view_count": null,
            "_view_module_version": "1.5.0",
            "orientation": "horizontal",
            "min": 0,
            "description_tooltip": null,
            "_model_module": "@jupyter-widgets/controls",
            "layout": "IPY_MODEL_7850b7ee16ae43c9b92066bd66f8c9b4"
          }
        },
        "607b7efb28ec4be5909c4d0c2c5745d5": {
          "model_module": "@jupyter-widgets/controls",
          "model_name": "HTMLModel",
          "state": {
            "_view_name": "HTMLView",
            "style": "IPY_MODEL_5faebf4d9b7942159c9a6de3dd04bdb6",
            "_dom_classes": [],
            "description": "",
            "_model_name": "HTMLModel",
            "placeholder": "​",
            "_view_module": "@jupyter-widgets/controls",
            "_model_module_version": "1.5.0",
            "value": "170500096it [00:02, 73395940.35it/s]",
            "_view_count": null,
            "_view_module_version": "1.5.0",
            "description_tooltip": null,
            "_model_module": "@jupyter-widgets/controls",
            "layout": "IPY_MODEL_85dc1533ca6f462d8570f2e4863dab47"
          }
        },
        "21fcb0343edc4c64bd9b53786da9b37f": {
          "model_module": "@jupyter-widgets/controls",
          "model_name": "ProgressStyleModel",
          "state": {
            "_view_name": "StyleView",
            "_model_name": "ProgressStyleModel",
            "description_width": "",
            "_view_module": "@jupyter-widgets/base",
            "_model_module_version": "1.5.0",
            "_view_count": null,
            "_view_module_version": "1.2.0",
            "bar_color": null,
            "_model_module": "@jupyter-widgets/controls"
          }
        },
        "7850b7ee16ae43c9b92066bd66f8c9b4": {
          "model_module": "@jupyter-widgets/base",
          "model_name": "LayoutModel",
          "state": {
            "_view_name": "LayoutView",
            "grid_template_rows": null,
            "right": null,
            "justify_content": null,
            "_view_module": "@jupyter-widgets/base",
            "overflow": null,
            "_model_module_version": "1.2.0",
            "_view_count": null,
            "flex_flow": null,
            "width": null,
            "min_width": null,
            "border": null,
            "align_items": null,
            "bottom": null,
            "_model_module": "@jupyter-widgets/base",
            "top": null,
            "grid_column": null,
            "overflow_y": null,
            "overflow_x": null,
            "grid_auto_flow": null,
            "grid_area": null,
            "grid_template_columns": null,
            "flex": null,
            "_model_name": "LayoutModel",
            "justify_items": null,
            "grid_row": null,
            "max_height": null,
            "align_content": null,
            "visibility": null,
            "align_self": null,
            "height": null,
            "min_height": null,
            "padding": null,
            "grid_auto_rows": null,
            "grid_gap": null,
            "max_width": null,
            "order": null,
            "_view_module_version": "1.2.0",
            "grid_template_areas": null,
            "object_position": null,
            "object_fit": null,
            "grid_auto_columns": null,
            "margin": null,
            "display": null,
            "left": null
          }
        },
        "5faebf4d9b7942159c9a6de3dd04bdb6": {
          "model_module": "@jupyter-widgets/controls",
          "model_name": "DescriptionStyleModel",
          "state": {
            "_view_name": "StyleView",
            "_model_name": "DescriptionStyleModel",
            "description_width": "",
            "_view_module": "@jupyter-widgets/base",
            "_model_module_version": "1.5.0",
            "_view_count": null,
            "_view_module_version": "1.2.0",
            "_model_module": "@jupyter-widgets/controls"
          }
        },
        "85dc1533ca6f462d8570f2e4863dab47": {
          "model_module": "@jupyter-widgets/base",
          "model_name": "LayoutModel",
          "state": {
            "_view_name": "LayoutView",
            "grid_template_rows": null,
            "right": null,
            "justify_content": null,
            "_view_module": "@jupyter-widgets/base",
            "overflow": null,
            "_model_module_version": "1.2.0",
            "_view_count": null,
            "flex_flow": null,
            "width": null,
            "min_width": null,
            "border": null,
            "align_items": null,
            "bottom": null,
            "_model_module": "@jupyter-widgets/base",
            "top": null,
            "grid_column": null,
            "overflow_y": null,
            "overflow_x": null,
            "grid_auto_flow": null,
            "grid_area": null,
            "grid_template_columns": null,
            "flex": null,
            "_model_name": "LayoutModel",
            "justify_items": null,
            "grid_row": null,
            "max_height": null,
            "align_content": null,
            "visibility": null,
            "align_self": null,
            "height": null,
            "min_height": null,
            "padding": null,
            "grid_auto_rows": null,
            "grid_gap": null,
            "max_width": null,
            "order": null,
            "_view_module_version": "1.2.0",
            "grid_template_areas": null,
            "object_position": null,
            "object_fit": null,
            "grid_auto_columns": null,
            "margin": null,
            "display": null,
            "left": null
          }
        }
      }
    }
  },
  "cells": [
    {
      "cell_type": "code",
      "metadata": {
        "id": "QVbdg0z4poCc",
        "colab_type": "code",
        "colab": {}
      },
      "source": [
        "%matplotlib inline"
      ],
      "execution_count": 0,
      "outputs": []
    },
    {
      "cell_type": "markdown",
      "metadata": {
        "id": "fPogbueepoCh",
        "colab_type": "text"
      },
      "source": [
        "\n",
        "Training a Classifier\n",
        "=====================\n",
        "\n",
        "This is it. You have seen how to define neural networks, compute loss and make\n",
        "updates to the weights of the network.\n",
        "\n",
        "Now you might be thinking,\n",
        "\n",
        "What about data?\n",
        "----------------\n",
        "\n",
        "Generally, when you have to deal with image, text, audio or video data,\n",
        "you can use standard python packages that load data into a numpy array.\n",
        "Then you can convert this array into a ``torch.*Tensor``.\n",
        "\n",
        "-  For images, packages such as Pillow, OpenCV are useful\n",
        "-  For audio, packages such as scipy and librosa\n",
        "-  For text, either raw Python or Cython based loading, or NLTK and\n",
        "   SpaCy are useful\n",
        "\n",
        "Specifically for vision, we have created a package called\n",
        "``torchvision``, that has data loaders for common datasets such as\n",
        "Imagenet, CIFAR10, MNIST, etc. and data transformers for images, viz.,\n",
        "``torchvision.datasets`` and ``torch.utils.data.DataLoader``.\n",
        "\n",
        "This provides a huge convenience and avoids writing boilerplate code.\n",
        "\n",
        "For this tutorial, we will use the CIFAR10 dataset.\n",
        "It has the classes: ‘airplane’, ‘automobile’, ‘bird’, ‘cat’, ‘deer’,\n",
        "‘dog’, ‘frog’, ‘horse’, ‘ship’, ‘truck’. The images in CIFAR-10 are of\n",
        "size 3x32x32, i.e. 3-channel color images of 32x32 pixels in size.\n",
        "\n",
        ".. figure:: /_static/img/cifar10.png\n",
        "   :alt: cifar10\n",
        "\n",
        "   cifar10\n",
        "\n",
        "\n",
        "Training an image classifier\n",
        "----------------------------\n",
        "\n",
        "We will do the following steps in order:\n",
        "\n",
        "1. Load and normalizing the CIFAR10 training and test datasets using\n",
        "   ``torchvision``\n",
        "2. Define a Convolution Neural Network\n",
        "3. Define a loss function\n",
        "4. Train the network on the training data\n",
        "5. Test the network on the test data\n",
        "\n",
        "1. Loading and normalizing CIFAR10\n",
        "^^^^^^^^^^^^^^^^^^^^^^^^^^^^^^^^^^\n",
        "\n",
        "Using ``torchvision``, it’s extremely easy to load CIFAR10.\n",
        "\n"
      ]
    },
    {
      "cell_type": "code",
      "metadata": {
        "id": "-yVpodAMpoCi",
        "colab_type": "code",
        "colab": {}
      },
      "source": [
        "import torch\n",
        "import torchvision\n",
        "import torchvision.transforms as transforms"
      ],
      "execution_count": 0,
      "outputs": []
    },
    {
      "cell_type": "markdown",
      "metadata": {
        "id": "5kjt4e2TpoCk",
        "colab_type": "text"
      },
      "source": [
        "The output of torchvision datasets are PILImage images of range [0, 1].\n",
        "We transform them to Tensors of normalized range [-1, 1].\n",
        "\n"
      ]
    },
    {
      "cell_type": "code",
      "metadata": {
        "id": "E-PwUTt5enzW",
        "colab_type": "code",
        "outputId": "43986014-fa3d-4acc-a6b8-1d12881e09f8",
        "colab": {
          "base_uri": "https://localhost:8080/",
          "height": 34
        }
      },
      "source": [
        "SEED = 1\n",
        "\n",
        "# CUDA?\n",
        "cuda = torch.cuda.is_available()\n",
        "print(\"CUDA Available?\", cuda)\n",
        "\n",
        "# For reproducibility\n",
        "torch.manual_seed(SEED)\n",
        "\n",
        "if cuda:\n",
        "    torch.cuda.manual_seed(SEED)"
      ],
      "execution_count": 3,
      "outputs": [
        {
          "output_type": "stream",
          "text": [
            "CUDA Available? True\n"
          ],
          "name": "stdout"
        }
      ]
    },
    {
      "cell_type": "code",
      "metadata": {
        "id": "D8Tjigo2poCl",
        "colab_type": "code",
        "outputId": "0735a024-1510-4a53-ae48-230755f5a4f4",
        "colab": {
          "base_uri": "https://localhost:8080/",
          "height": 117,
          "referenced_widgets": [
            "0366742d1e1d4005824ecd521aeedde0",
            "2050ddc8271546a4ab7fb22481ca86c0",
            "1f95b4282029486b97a7e08fa56a331d",
            "607b7efb28ec4be5909c4d0c2c5745d5",
            "21fcb0343edc4c64bd9b53786da9b37f",
            "7850b7ee16ae43c9b92066bd66f8c9b4",
            "5faebf4d9b7942159c9a6de3dd04bdb6",
            "85dc1533ca6f462d8570f2e4863dab47"
          ]
        }
      },
      "source": [
        "transform = transforms.Compose(\n",
        "    [transforms.RandomHorizontalFlip(),\n",
        "     transforms.ToTensor(),\n",
        "     transforms.Normalize((0.5, 0.5, 0.5), (0.5, 0.5, 0.5))])\n",
        "\n",
        "# dataloader arguments - something you'll fetch these from cmdprmt\n",
        "dataloader_args = dict(shuffle=True, batch_size=128, num_workers=4, pin_memory=True) if cuda else dict(shuffle=True, batch_size=64)\n",
        "dataloader_args1 = dict(shuffle=True, batch_size=4, num_workers=4, pin_memory=True) if cuda else dict(shuffle=True, batch_size=64)\n",
        "\n",
        "trainset = torchvision.datasets.CIFAR10(root='./data', train=True,\n",
        "                                        download=True, transform=transform)\n",
        "trainloader = torch.utils.data.DataLoader(trainset, **dataloader_args)\n",
        "trainloader1 = torch.utils.data.DataLoader(trainset, **dataloader_args1)\n",
        "testset = torchvision.datasets.CIFAR10(root='./data', train=False,\n",
        "                                       download=True, transform=transform)\n",
        "testloader = torch.utils.data.DataLoader(testset, **dataloader_args)\n",
        "testloader1 = torch.utils.data.DataLoader(testset, **dataloader_args1)\n",
        "classes = ('plane', 'car', 'bird', 'cat',\n",
        "           'deer', 'dog', 'frog', 'horse', 'ship', 'truck')"
      ],
      "execution_count": 4,
      "outputs": [
        {
          "output_type": "stream",
          "text": [
            "Downloading https://www.cs.toronto.edu/~kriz/cifar-10-python.tar.gz to ./data/cifar-10-python.tar.gz\n"
          ],
          "name": "stdout"
        },
        {
          "output_type": "display_data",
          "data": {
            "application/vnd.jupyter.widget-view+json": {
              "model_id": "0366742d1e1d4005824ecd521aeedde0",
              "version_minor": 0,
              "version_major": 2
            },
            "text/plain": [
              "HBox(children=(IntProgress(value=1, bar_style='info', max=1), HTML(value='')))"
            ]
          },
          "metadata": {
            "tags": []
          }
        },
        {
          "output_type": "stream",
          "text": [
            "\n",
            "Extracting ./data/cifar-10-python.tar.gz to ./data\n",
            "Files already downloaded and verified\n"
          ],
          "name": "stdout"
        }
      ]
    },
    {
      "cell_type": "markdown",
      "metadata": {
        "id": "_cj433rtpoCn",
        "colab_type": "text"
      },
      "source": [
        "Let us show some of the training images, for fun.\n",
        "\n"
      ]
    },
    {
      "cell_type": "code",
      "metadata": {
        "id": "daA7bADhpoCo",
        "colab_type": "code",
        "outputId": "daf08253-6d29-472a-9987-69d46e168cc6",
        "colab": {
          "base_uri": "https://localhost:8080/",
          "height": 155
        }
      },
      "source": [
        "import matplotlib.pyplot as plt\n",
        "import numpy as np\n",
        "\n",
        "# functions to show an image\n",
        "\n",
        "\n",
        "def imshow(img):\n",
        "    img = img / 2 + 0.5     # unnormalize\n",
        "    npimg = img.numpy()\n",
        "    plt.imshow(np.transpose(npimg, (1, 2, 0)))\n",
        "\n",
        "\n",
        "# get some random training images\n",
        "dataiter = iter(trainloader1)\n",
        "images, labels = dataiter.next()\n",
        "\n",
        "# show images\n",
        "imshow(torchvision.utils.make_grid(images))\n",
        "# print labels\n",
        "print(' '.join('%5s' % classes[labels[j]] for j in range(4)))"
      ],
      "execution_count": 5,
      "outputs": [
        {
          "output_type": "stream",
          "text": [
            "plane   dog  deer  deer\n"
          ],
          "name": "stdout"
        },
        {
          "output_type": "display_data",
          "data": {
            "image/png": "[encoded data removed]",
            "text/plain": [
              "<Figure size 432x288 with 1 Axes>"
            ]
          },
          "metadata": {
            "tags": []
          }
        }
      ]
    },
    {
      "cell_type": "markdown",
      "metadata": {
        "id": "28OpHA_LpoCq",
        "colab_type": "text"
      },
      "source": [
        "2. Define a Convolution Neural Network\n",
        "^^^^^^^^^^^^^^^^^^^^^^^^^^^^^^^^^^^^^^\n",
        "Copy the neural network from the Neural Networks section before and modify it to\n",
        "take 3-channel images (instead of 1-channel images as it was defined).\n",
        "\n"
      ]
    },
    {
      "cell_type": "code",
      "metadata": {
        "id": "0jjLwLLQpoCr",
        "colab_type": "code",
        "colab": {}
      },
      "source": [
        "import torch.nn as nn\n",
        "import torch.nn.functional as F\n",
        "\n",
        "class depthwise_separable_conv(nn.Module):\n",
        "    def __init__(self, nin, nout):\n",
        "        super(depthwise_separable_conv, self).__init__()\n",
        "        self.depthwise = nn.Conv2d(nin, nin, kernel_size=3, padding=1, groups=nin)\n",
        "        self.pointwise = nn.Conv2d(nin, nout, kernel_size=1)\n",
        "\n",
        "    def forward(self, x):\n",
        "        out = self.depthwise(x)\n",
        "        out = self.pointwise(out)\n",
        "        return out\n",
        "\n",
        "class Net(nn.Module):\n",
        "    def __init__(self):\n",
        "        super(Net, self).__init__()\n",
        "        self.convblock1 = nn.Sequential(\n",
        "            nn.Conv2d(in_channels=3, out_channels=32, kernel_size=(3, 3), padding=1, bias=False),\n",
        "            nn.BatchNorm2d(32),\n",
        "            nn.ReLU(),\n",
        "            nn.Dropout(0.1),\n",
        "        ) # output_size = 32\n",
        "        self.convblock2 = nn.Sequential(\n",
        "            nn.Conv2d(in_channels=32, out_channels=32, kernel_size=(3, 3), padding=1, bias=False),\n",
        "            nn.BatchNorm2d(32),\n",
        "            nn.ReLU(),\n",
        "            nn.Dropout(0.2),\n",
        "        ) # output_size = 32\n",
        "        self.convblock3 = nn.Sequential(\n",
        "            nn.Conv2d(in_channels=32, out_channels=32, kernel_size=(3, 3), padding=2, dilation=2, bias=False),\n",
        "            nn.BatchNorm2d(32),\n",
        "            nn.ReLU(),\n",
        "            nn.Dropout(0.2),\n",
        "        ) # output_size = 32\n",
        "        self.pool = nn.MaxPool2d(kernel_size=2, stride=2)\n",
        "        self.convblock4 = nn.Sequential(\n",
        "            nn.Conv2d(in_channels=32, out_channels=64, kernel_size=(3, 3), padding=2, dilation = 2,  bias=False),\n",
        "            nn.BatchNorm2d(64),\n",
        "            nn.ReLU(),\n",
        "            nn.Dropout(0.2),\n",
        "        ) # output_size = 32\n",
        "        self.convblock5 = nn.Sequential(\n",
        "            nn.Conv2d(in_channels=64, out_channels=64, kernel_size=(3, 3), padding=2, dilation=2,  bias=False),\n",
        "            nn.BatchNorm2d(64),\n",
        "            nn.ReLU(),\n",
        "            nn.Dropout(0.2),\n",
        "        ) # output_size = 32\n",
        "        self.pool1 = nn.MaxPool2d(kernel_size=2, stride=2)\n",
        "        self.convblock6 = nn.Sequential(\n",
        "            depthwise_separable_conv(64, 128),\n",
        "            nn.BatchNorm2d(128),\n",
        "            nn.ReLU(),\n",
        "            nn.Dropout(0.2),\n",
        "        ) # output_size = 32\n",
        "        self.convblock7 = nn.Sequential(\n",
        "            nn.Conv2d(in_channels=128, out_channels=128, kernel_size=(3, 3), padding=2, dilation=2,  bias=False),\n",
        "            nn.BatchNorm2d(128),\n",
        "            nn.ReLU(),\n",
        "            nn.Dropout(0.2),\n",
        "        ) # output_size = 32\n",
        "        self.pool2 = nn.MaxPool2d(kernel_size=2, stride=2)\n",
        "        self.gap = nn.Sequential(\n",
        "            nn.AvgPool2d(kernel_size=4)\n",
        "        ) # output_size = 1\n",
        "        self.fc1 = nn.Linear(128, 10)\n",
        "        #self.fc2 = nn.Linear(64, 10)\n",
        "\n",
        "    def forward(self, x):\n",
        "        x = self.convblock1(x) #3\n",
        "        x = self.convblock2(x) #5\n",
        "        x = self.convblock3(x) #9\n",
        "        x = self.pool(x) #10\n",
        "        x = self.convblock4(x) #18\n",
        "        x = self.convblock5(x) #26\n",
        "        x = self.pool1(x) #28\n",
        "        x = self.convblock6(x) #52\n",
        "        x = self.convblock7(x) #44\n",
        "        x = self.pool2(x)\n",
        "        x = self.gap(x)\n",
        "        x = x.view(-1, 128)\n",
        "        x = (self.fc1(x))\n",
        "        #x = (self.fc2(x))\n",
        "        return x"
      ],
      "execution_count": 0,
      "outputs": []
    },
    {
      "cell_type": "markdown",
      "metadata": {
        "id": "Wdw2NNCUpoCu",
        "colab_type": "text"
      },
      "source": [
        "3. Define a Loss function and optimizer\n",
        "^^^^^^^^^^^^^^^^^^^^^^^^^^^^^^^^^^^^^^^\n",
        "Let's use a Classification Cross-Entropy loss and SGD with momentum.\n",
        "\n"
      ]
    },
    {
      "cell_type": "code",
      "metadata": {
        "id": "SERSWQ57fD9M",
        "colab_type": "code",
        "outputId": "5469cdce-9c93-4842-f4a7-5927b60506af",
        "colab": {
          "base_uri": "https://localhost:8080/",
          "height": 867
        }
      },
      "source": [
        "\n",
        "!pip install torchsummary\n",
        "from torchsummary import summary\n",
        "use_cuda = torch.cuda.is_available()\n",
        "device = torch.device(\"cuda\" if use_cuda else \"cpu\")\n",
        "print(device)\n",
        "net = Net().to(device)\n",
        "summary(net, input_size=(3, 32, 32))"
      ],
      "execution_count": 7,
      "outputs": [
        {
          "output_type": "stream",
          "text": [
            "Requirement already satisfied: torchsummary in /usr/local/lib/python3.6/dist-packages (1.5.1)\n",
            "cuda\n",
            "----------------------------------------------------------------\n",
            "        Layer (type)               Output Shape         Param #\n",
            "================================================================\n",
            "            Conv2d-1           [-1, 32, 32, 32]             864\n",
            "       BatchNorm2d-2           [-1, 32, 32, 32]              64\n",
            "              ReLU-3           [-1, 32, 32, 32]               0\n",
            "           Dropout-4           [-1, 32, 32, 32]               0\n",
            "            Conv2d-5           [-1, 32, 32, 32]           9,216\n",
            "       BatchNorm2d-6           [-1, 32, 32, 32]              64\n",
            "              ReLU-7           [-1, 32, 32, 32]               0\n",
            "           Dropout-8           [-1, 32, 32, 32]               0\n",
            "            Conv2d-9           [-1, 32, 32, 32]           9,216\n",
            "      BatchNorm2d-10           [-1, 32, 32, 32]              64\n",
            "             ReLU-11           [-1, 32, 32, 32]               0\n",
            "          Dropout-12           [-1, 32, 32, 32]               0\n",
            "        MaxPool2d-13           [-1, 32, 16, 16]               0\n",
            "           Conv2d-14           [-1, 64, 16, 16]          18,432\n",
            "      BatchNorm2d-15           [-1, 64, 16, 16]             128\n",
            "             ReLU-16           [-1, 64, 16, 16]               0\n",
            "          Dropout-17           [-1, 64, 16, 16]               0\n",
            "           Conv2d-18           [-1, 64, 16, 16]          36,864\n",
            "      BatchNorm2d-19           [-1, 64, 16, 16]             128\n",
            "             ReLU-20           [-1, 64, 16, 16]               0\n",
            "          Dropout-21           [-1, 64, 16, 16]               0\n",
            "        MaxPool2d-22             [-1, 64, 8, 8]               0\n",
            "           Conv2d-23             [-1, 64, 8, 8]             640\n",
            "           Conv2d-24            [-1, 128, 8, 8]           8,320\n",
            "depthwise_separable_conv-25            [-1, 128, 8, 8]               0\n",
            "      BatchNorm2d-26            [-1, 128, 8, 8]             256\n",
            "             ReLU-27            [-1, 128, 8, 8]               0\n",
            "          Dropout-28            [-1, 128, 8, 8]               0\n",
            "           Conv2d-29            [-1, 128, 8, 8]         147,456\n",
            "      BatchNorm2d-30            [-1, 128, 8, 8]             256\n",
            "             ReLU-31            [-1, 128, 8, 8]               0\n",
            "          Dropout-32            [-1, 128, 8, 8]               0\n",
            "        MaxPool2d-33            [-1, 128, 4, 4]               0\n",
            "        AvgPool2d-34            [-1, 128, 1, 1]               0\n",
            "           Linear-35                   [-1, 10]           1,290\n",
            "================================================================\n",
            "Total params: 233,258\n",
            "Trainable params: 233,258\n",
            "Non-trainable params: 0\n",
            "----------------------------------------------------------------\n",
            "Input size (MB): 0.01\n",
            "Forward/backward pass size (MB): 4.70\n",
            "Params size (MB): 0.89\n",
            "Estimated Total Size (MB): 5.61\n",
            "----------------------------------------------------------------\n"
          ],
          "name": "stdout"
        }
      ]
    },
    {
      "cell_type": "code",
      "metadata": {
        "id": "M4xBbDROpoCv",
        "colab_type": "code",
        "colab": {}
      },
      "source": [
        "import torch.optim as optim\n",
        "from torch.optim.lr_scheduler import StepLR\n",
        "criterion = nn.CrossEntropyLoss()\n",
        "optimizer = optim.SGD(net.parameters(), lr=0.1, momentum=0.9, weight_decay=0.0001)\n",
        "scheduler = StepLR(optimizer, step_size=15, gamma=0.75)"
      ],
      "execution_count": 0,
      "outputs": []
    },
    {
      "cell_type": "markdown",
      "metadata": {
        "id": "O-odOrhdpoC2",
        "colab_type": "text"
      },
      "source": [
        "4. Train the network\n",
        "^^^^^^^^^^^^^^^^^^^^\n",
        "\n",
        "This is when things start to get interesting.\n",
        "We simply have to loop over our data iterator, and feed the inputs to the\n",
        "network and optimize.\n",
        "\n"
      ]
    },
    {
      "cell_type": "code",
      "metadata": {
        "id": "kkuRfo1IpoC3",
        "colab_type": "code",
        "outputId": "ea218409-e772-489e-bc92-c1baa4307e89",
        "colab": {
          "base_uri": "https://localhost:8080/",
          "height": 938
        }
      },
      "source": [
        "import torch\n",
        "from tqdm import tqdm\n",
        "for epoch in range(50):  # loop over the dataset multiple times\n",
        "    pbar = tqdm(trainloader)\n",
        "    running_loss = 0.0\n",
        "    scheduler.step()\n",
        "    for i, (data, target) in enumerate(pbar):\n",
        "        # get the inputs\n",
        "        correct = 0\n",
        "        processed = 0\n",
        "        data, target = data.to(device), target.to(device)\n",
        "\n",
        "        # zero the parameter gradients\n",
        "        optimizer.zero_grad()\n",
        "\n",
        "        # forward + backward + optimize\n",
        "        outputs = net(data)\n",
        "        loss = criterion(outputs, target)\n",
        "        loss.backward()\n",
        "        optimizer.step()\n",
        "\n",
        "        # Predict\n",
        "        y_pred = net(data)\n",
        "        pred = y_pred.argmax(dim=1, keepdim=True)  # get the index of the max log-probability\n",
        "        correct += pred.eq(target.view_as(pred)).sum().item()\n",
        "        processed += len(data)\n",
        "\n",
        "        pbar.set_description(desc= f'Epoch= {epoch} Loss={loss.item()} Batch_id={i} Accuracy={100*correct/processed:0.2f}')\n",
        "        pbar.update(1)\n",
        "\n",
        "print('Finished Training')"
      ],
      "execution_count": 9,
      "outputs": [
        {
          "output_type": "stream",
          "text": [
            "\r  0%|          | 0/391 [00:00<?, ?it/s]/usr/local/lib/python3.6/dist-packages/torch/optim/lr_scheduler.py:122: UserWarning: Detected call of `lr_scheduler.step()` before `optimizer.step()`. In PyTorch 1.1.0 and later, you should call them in the opposite order: `optimizer.step()` before `lr_scheduler.step()`.  Failure to do this will result in PyTorch skipping the first value of the learning rate schedule. See more details at https://pytorch.org/docs/stable/optim.html#how-to-adjust-learning-rate\n",
            "  \"https://pytorch.org/docs/stable/optim.html#how-to-adjust-learning-rate\", UserWarning)\n",
            "Epoch= 0 Loss=1.3056453466415405 Batch_id=390 Accuracy=55.00: 100%|██████████| 391/391 [00:15<00:00, 25.01it/s]\n",
            "Epoch= 1 Loss=1.1159231662750244 Batch_id=390 Accuracy=68.75: 100%|██████████| 391/391 [00:15<00:00, 25.62it/s]\n",
            "Epoch= 2 Loss=0.8056751489639282 Batch_id=390 Accuracy=77.50: 100%|██████████| 391/391 [00:15<00:00, 25.70it/s]\n",
            "Epoch= 3 Loss=0.7684075236320496 Batch_id=390 Accuracy=77.50: 100%|██████████| 391/391 [00:15<00:00, 29.37it/s]\n",
            "Epoch= 4 Loss=0.6244746446609497 Batch_id=390 Accuracy=83.75: 100%|██████████| 391/391 [00:15<00:00, 29.96it/s]\n",
            "Epoch= 5 Loss=0.7886043787002563 Batch_id=390 Accuracy=72.50: 100%|██████████| 391/391 [00:15<00:00, 25.49it/s]\n",
            "Epoch= 6 Loss=0.67676842212677 Batch_id=390 Accuracy=82.50: 100%|██████████| 391/391 [00:15<00:00, 25.23it/s]\n",
            "Epoch= 7 Loss=0.426994264125824 Batch_id=390 Accuracy=83.75: 100%|██████████| 391/391 [00:15<00:00, 25.59it/s]\n",
            "Epoch= 8 Loss=0.5151435732841492 Batch_id=390 Accuracy=82.50: 100%|██████████| 391/391 [00:15<00:00, 25.44it/s]\n",
            "Epoch= 9 Loss=0.5403255224227905 Batch_id=390 Accuracy=82.50: 100%|██████████| 391/391 [00:14<00:00, 26.31it/s]\n",
            "Epoch= 10 Loss=0.42970409989356995 Batch_id=390 Accuracy=86.25: 100%|██████████| 391/391 [00:15<00:00, 29.46it/s]\n",
            "Epoch= 11 Loss=0.4764350354671478 Batch_id=390 Accuracy=85.00: 100%|██████████| 391/391 [00:15<00:00, 29.81it/s]\n",
            "Epoch= 12 Loss=0.5295330286026001 Batch_id=390 Accuracy=82.50: 100%|██████████| 391/391 [00:15<00:00, 31.16it/s]\n",
            "Epoch= 13 Loss=0.7270585298538208 Batch_id=390 Accuracy=81.25: 100%|██████████| 391/391 [00:15<00:00, 25.08it/s]\n",
            "Epoch= 14 Loss=0.3939550518989563 Batch_id=390 Accuracy=86.25: 100%|██████████| 391/391 [00:15<00:00, 30.63it/s]\n",
            "Epoch= 15 Loss=0.37830299139022827 Batch_id=390 Accuracy=87.50: 100%|██████████| 391/391 [00:15<00:00, 25.85it/s]\n",
            "Epoch= 16 Loss=0.43547701835632324 Batch_id=390 Accuracy=82.50: 100%|██████████| 391/391 [00:15<00:00, 25.20it/s]\n",
            "Epoch= 17 Loss=0.4407455325126648 Batch_id=390 Accuracy=86.25: 100%|██████████| 391/391 [00:15<00:00, 25.77it/s]\n",
            "Epoch= 18 Loss=0.41052117943763733 Batch_id=390 Accuracy=87.50: 100%|██████████| 391/391 [00:15<00:00, 25.89it/s]\n",
            "Epoch= 19 Loss=0.366600900888443 Batch_id=390 Accuracy=85.00: 100%|██████████| 391/391 [00:15<00:00, 26.02it/s]\n",
            "Epoch= 20 Loss=0.39741599559783936 Batch_id=390 Accuracy=83.75: 100%|██████████| 391/391 [00:15<00:00, 25.42it/s]\n",
            "Epoch= 21 Loss=0.3589920997619629 Batch_id=390 Accuracy=88.75: 100%|██████████| 391/391 [00:15<00:00, 25.84it/s]\n",
            "Epoch= 22 Loss=0.5098081231117249 Batch_id=390 Accuracy=78.75: 100%|██████████| 391/391 [00:15<00:00, 30.52it/s]\n",
            "Epoch= 23 Loss=0.4492217004299164 Batch_id=390 Accuracy=87.50: 100%|██████████| 391/391 [00:15<00:00, 25.62it/s]\n",
            "Epoch= 24 Loss=0.26668357849121094 Batch_id=390 Accuracy=90.00: 100%|██████████| 391/391 [00:15<00:00, 25.48it/s]\n",
            "Epoch= 25 Loss=0.334835410118103 Batch_id=390 Accuracy=90.00: 100%|██████████| 391/391 [00:15<00:00, 24.48it/s]\n",
            "Epoch= 26 Loss=0.3506888747215271 Batch_id=390 Accuracy=90.00: 100%|██████████| 391/391 [00:15<00:00, 24.52it/s]\n",
            "Epoch= 27 Loss=0.5006279945373535 Batch_id=390 Accuracy=83.75: 100%|██████████| 391/391 [00:16<00:00, 28.79it/s]\n",
            "Epoch= 28 Loss=0.4250779151916504 Batch_id=390 Accuracy=82.50: 100%|██████████| 391/391 [00:16<00:00, 28.25it/s]\n",
            "Epoch= 29 Loss=0.33621782064437866 Batch_id=390 Accuracy=91.25: 100%|██████████| 391/391 [00:15<00:00, 30.43it/s]\n",
            "Epoch= 30 Loss=0.28732210397720337 Batch_id=390 Accuracy=92.50: 100%|██████████| 391/391 [00:15<00:00, 30.97it/s]\n",
            "Epoch= 31 Loss=0.4206526279449463 Batch_id=390 Accuracy=91.25: 100%|██████████| 391/391 [00:15<00:00, 24.94it/s]\n",
            "Epoch= 32 Loss=0.24522404372692108 Batch_id=390 Accuracy=92.50: 100%|██████████| 391/391 [00:15<00:00, 24.87it/s]\n",
            "Epoch= 33 Loss=0.4997972548007965 Batch_id=390 Accuracy=85.00: 100%|██████████| 391/391 [00:15<00:00, 24.96it/s]\n",
            "Epoch= 34 Loss=0.2613615393638611 Batch_id=390 Accuracy=91.25: 100%|██████████| 391/391 [00:15<00:00, 24.77it/s]\n",
            "Epoch= 35 Loss=0.38677042722702026 Batch_id=390 Accuracy=88.75: 100%|██████████| 391/391 [00:15<00:00, 29.76it/s]\n",
            "Epoch= 36 Loss=0.39466869831085205 Batch_id=390 Accuracy=87.50: 100%|██████████| 391/391 [00:15<00:00, 28.08it/s]\n",
            "Epoch= 37 Loss=0.22467255592346191 Batch_id=390 Accuracy=91.25: 100%|██████████| 391/391 [00:15<00:00, 25.53it/s]\n",
            "Epoch= 38 Loss=0.20967289805412292 Batch_id=390 Accuracy=91.25: 100%|██████████| 391/391 [00:15<00:00, 30.28it/s]\n",
            "Epoch= 39 Loss=0.4121870994567871 Batch_id=390 Accuracy=83.75: 100%|██████████| 391/391 [00:15<00:00, 25.29it/s]\n",
            "Epoch= 40 Loss=0.41341036558151245 Batch_id=390 Accuracy=83.75: 100%|██████████| 391/391 [00:15<00:00, 25.45it/s]\n",
            "Epoch= 41 Loss=0.42338624596595764 Batch_id=390 Accuracy=88.75: 100%|██████████| 391/391 [00:15<00:00, 25.46it/s]\n",
            "Epoch= 42 Loss=0.293148934841156 Batch_id=390 Accuracy=93.75: 100%|██████████| 391/391 [00:15<00:00, 25.78it/s]\n",
            "Epoch= 43 Loss=0.5648026466369629 Batch_id=390 Accuracy=83.75: 100%|██████████| 391/391 [00:15<00:00, 30.16it/s]\n",
            "Epoch= 44 Loss=0.2338268756866455 Batch_id=390 Accuracy=92.50: 100%|██████████| 391/391 [00:15<00:00, 30.39it/s]\n",
            "Epoch= 45 Loss=0.2733297049999237 Batch_id=390 Accuracy=83.75: 100%|██████████| 391/391 [00:15<00:00, 29.17it/s]\n",
            "Epoch= 46 Loss=0.23848876357078552 Batch_id=390 Accuracy=92.50: 100%|██████████| 391/391 [00:15<00:00, 25.16it/s]\n",
            "Epoch= 47 Loss=0.2964962124824524 Batch_id=390 Accuracy=91.25: 100%|██████████| 391/391 [00:15<00:00, 25.05it/s]\n",
            "Epoch= 48 Loss=0.2774279713630676 Batch_id=390 Accuracy=90.00: 100%|██████████| 391/391 [00:15<00:00, 25.03it/s]\n",
            "Epoch= 49 Loss=0.2883837819099426 Batch_id=390 Accuracy=93.75: 100%|██████████| 391/391 [00:14<00:00, 31.42it/s]"
          ],
          "name": "stderr"
        },
        {
          "output_type": "stream",
          "text": [
            "Finished Training\n"
          ],
          "name": "stdout"
        },
        {
          "output_type": "stream",
          "text": [
            "\n"
          ],
          "name": "stderr"
        }
      ]
    },
    {
      "cell_type": "markdown",
      "metadata": {
        "id": "YLrvL_fHpoC5",
        "colab_type": "text"
      },
      "source": [
        "5. Test the network on the test data\n",
        "^^^^^^^^^^^^^^^^^^^^^^^^^^^^^^^^^^^^\n",
        "\n",
        "We have trained the network for 2 passes over the training dataset.\n",
        "But we need to check if the network has learnt anything at all.\n",
        "\n",
        "We will check this by predicting the class label that the neural network\n",
        "outputs, and checking it against the ground-truth. If the prediction is\n",
        "correct, we add the sample to the list of correct predictions.\n",
        "\n",
        "Okay, first step. Let us display an image from the test set to get familiar.\n",
        "\n"
      ]
    },
    {
      "cell_type": "code",
      "metadata": {
        "id": "nizbsvw9poC6",
        "colab_type": "code",
        "outputId": "27c66ca5-c965-480d-edcd-cc4b49eb17c2",
        "colab": {
          "base_uri": "https://localhost:8080/",
          "height": 155
        }
      },
      "source": [
        "dataiter = iter(testloader1)\n",
        "images, labels = dataiter.next()\n",
        "\n",
        "# print images\n",
        "imshow(torchvision.utils.make_grid(images))\n",
        "print('GroundTruth: ', ' '.join('%5s' % classes[labels[j]] for j in range(4)))"
      ],
      "execution_count": 10,
      "outputs": [
        {
          "output_type": "stream",
          "text": [
            "GroundTruth:   ship  bird   car  ship\n"
          ],
          "name": "stdout"
        },
        {
          "output_type": "display_data",
          "data": {
            "image/png": "[encoded data removed]",
            "text/plain": [
              "<Figure size 432x288 with 1 Axes>"
            ]
          },
          "metadata": {
            "tags": []
          }
        }
      ]
    },
    {
      "cell_type": "markdown",
      "metadata": {
        "id": "DAx4QPHVpoC8",
        "colab_type": "text"
      },
      "source": [
        "Okay, now let us see what the neural network thinks these examples above are:\n",
        "\n"
      ]
    },
    {
      "cell_type": "code",
      "metadata": {
        "id": "HVLjlssWpoC9",
        "colab_type": "code",
        "colab": {}
      },
      "source": [
        "outputs = net(data)"
      ],
      "execution_count": 0,
      "outputs": []
    },
    {
      "cell_type": "markdown",
      "metadata": {
        "id": "u8OTHZEApoC_",
        "colab_type": "text"
      },
      "source": [
        "The outputs are energies for the 10 classes.\n",
        "Higher the energy for a class, the more the network\n",
        "thinks that the image is of the particular class.\n",
        "So, let's get the index of the highest energy:\n",
        "\n"
      ]
    },
    {
      "cell_type": "code",
      "metadata": {
        "id": "ABRIDW3lpoDA",
        "colab_type": "code",
        "outputId": "100bc0a5-ed79-4f58-c0ee-b6bcea584c4f",
        "colab": {
          "base_uri": "https://localhost:8080/",
          "height": 34
        }
      },
      "source": [
        "_, predicted = torch.max(outputs, 1)\n",
        "\n",
        "print('Predicted: ', ' '.join('%5s' % classes[predicted[j]]\n",
        "                              for j in range(4)))"
      ],
      "execution_count": 12,
      "outputs": [
        {
          "output_type": "stream",
          "text": [
            "Predicted:  truck   cat  frog truck\n"
          ],
          "name": "stdout"
        }
      ]
    },
    {
      "cell_type": "markdown",
      "metadata": {
        "id": "2TV0TXL1poDC",
        "colab_type": "text"
      },
      "source": [
        "The results seem pretty good.\n",
        "\n",
        "Let us look at how the network performs on the whole dataset.\n",
        "\n"
      ]
    },
    {
      "cell_type": "code",
      "metadata": {
        "id": "SZ4-5CESpoDD",
        "colab_type": "code",
        "outputId": "f41ba6e9-ce6f-4cf6-93c0-bf7886107c63",
        "colab": {
          "base_uri": "https://localhost:8080/",
          "height": 51
        }
      },
      "source": [
        "correct = 0\n",
        "total = 0\n",
        "with torch.no_grad():\n",
        "  pbar = tqdm(testloader)\n",
        "  for i, (data, target) in enumerate(pbar):\n",
        "        data, target = data.to(device), target.to(device)\n",
        "        outputs = net(data)\n",
        "        _, predicted = torch.max(outputs.data, 1)\n",
        "        total += target.size(0)\n",
        "        correct += (predicted == target).sum().item()\n",
        "        \n",
        "print('Accuracy of the network on the 10000 test images: %d %%' % (\n",
        "   100 * correct / total))"
      ],
      "execution_count": 13,
      "outputs": [
        {
          "output_type": "stream",
          "text": [
            "100%|██████████| 79/79 [00:02<00:00, 35.85it/s]"
          ],
          "name": "stderr"
        },
        {
          "output_type": "stream",
          "text": [
            "Accuracy of the network on the 10000 test images: 84 %\n"
          ],
          "name": "stdout"
        },
        {
          "output_type": "stream",
          "text": [
            "\n"
          ],
          "name": "stderr"
        }
      ]
    },
    {
      "cell_type": "markdown",
      "metadata": {
        "id": "eDdwPBl8poDF",
        "colab_type": "text"
      },
      "source": [
        "That looks waaay better than chance, which is 10% accuracy (randomly picking\n",
        "a class out of 10 classes).\n",
        "Seems like the network learnt something.\n",
        "\n",
        "Hmmm, what are the classes that performed well, and the classes that did\n",
        "not perform well:\n",
        "\n"
      ]
    },
    {
      "cell_type": "code",
      "metadata": {
        "id": "pDNFuDEDpoDG",
        "colab_type": "code",
        "outputId": "9139e3d5-e471-49db-f101-bd16ab813fe7",
        "colab": {
          "base_uri": "https://localhost:8080/",
          "height": 187
        }
      },
      "source": [
        "class_correct = list(0. for i in range(10))\n",
        "class_total = list(0. for i in range(10))\n",
        "with torch.no_grad():\n",
        "    for i, (data, target) in enumerate(pbar):\n",
        "        data, target = data.to(device), target.to(device)\n",
        "        outputs = net(data)\n",
        "        _, predicted = torch.max(outputs, 1)\n",
        "        c = (predicted == target).squeeze()\n",
        "        for i in range(4):\n",
        "            label = target[i]\n",
        "            class_correct[label] += c[i].item()\n",
        "            class_total[label] += 1\n",
        "\n",
        "\n",
        "for i in range(10):\n",
        "    print('Accuracy of %5s : %2d %%' % (\n",
        "        classes[i], 100 * class_correct[i] / class_total[i]))"
      ],
      "execution_count": 14,
      "outputs": [
        {
          "output_type": "stream",
          "text": [
            "Accuracy of plane : 88 %\n",
            "Accuracy of   car : 80 %\n",
            "Accuracy of  bird : 80 %\n",
            "Accuracy of   cat : 75 %\n",
            "Accuracy of  deer : 94 %\n",
            "Accuracy of   dog : 69 %\n",
            "Accuracy of  frog : 88 %\n",
            "Accuracy of horse : 79 %\n",
            "Accuracy of  ship : 91 %\n",
            "Accuracy of truck : 91 %\n"
          ],
          "name": "stdout"
        }
      ]
    },
    {
      "cell_type": "code",
      "metadata": {
        "id": "5BdSbnB7n3IP",
        "colab_type": "code",
        "colab": {}
      },
      "source": [
        ""
      ],
      "execution_count": 0,
      "outputs": []
    }
  ]
}