{
  "nbformat": 4,
  "nbformat_minor": 0,
  "metadata": {
    "kernelspec": {
      "name": "python3",
      "display_name": "Python 3"
    },
    "language_info": {
      "codemirror_mode": {
        "name": "ipython",
        "version": 3
      },
      "file_extension": ".py",
      "mimetype": "text/x-python",
      "name": "python",
      "nbconvert_exporter": "python",
      "pygments_lexer": "ipython3",
      "version": "3.6.6"
    },
    "colab": {
      "name": "S11.ipynb",
      "provenance": [],
      "collapsed_sections": []
    },
    "accelerator": "GPU",
    "widgets": {
      "application/vnd.jupyter.widget-state+json": {
        "958da4fbe89e4176970b7b4e5d7853f0": {
          "model_module": "@jupyter-widgets/controls",
          "model_name": "HBoxModel",
          "state": {
            "_view_name": "HBoxView",
            "_dom_classes": [],
            "_model_name": "HBoxModel",
            "_view_module": "@jupyter-widgets/controls",
            "_model_module_version": "1.5.0",
            "_view_count": null,
            "_view_module_version": "1.5.0",
            "box_style": "",
            "layout": "IPY_MODEL_1bfffb8bfafb4529992df7142a9d4320",
            "_model_module": "@jupyter-widgets/controls",
            "children": [
              "IPY_MODEL_174a260b6b61472a81e493e8a8f7c58d",
              "IPY_MODEL_f23619375ee447078a04d6ff9aa0121d"
            ]
          }
        },
        "1bfffb8bfafb4529992df7142a9d4320": {
          "model_module": "@jupyter-widgets/base",
          "model_name": "LayoutModel",
          "state": {
            "_view_name": "LayoutView",
            "grid_template_rows": null,
            "right": null,
            "justify_content": null,
            "_view_module": "@jupyter-widgets/base",
            "overflow": null,
            "_model_module_version": "1.2.0",
            "_view_count": null,
            "flex_flow": null,
            "width": null,
            "min_width": null,
            "border": null,
            "align_items": null,
            "bottom": null,
            "_model_module": "@jupyter-widgets/base",
            "top": null,
            "grid_column": null,
            "overflow_y": null,
            "overflow_x": null,
            "grid_auto_flow": null,
            "grid_area": null,
            "grid_template_columns": null,
            "flex": null,
            "_model_name": "LayoutModel",
            "justify_items": null,
            "grid_row": null,
            "max_height": null,
            "align_content": null,
            "visibility": null,
            "align_self": null,
            "height": null,
            "min_height": null,
            "padding": null,
            "grid_auto_rows": null,
            "grid_gap": null,
            "max_width": null,
            "order": null,
            "_view_module_version": "1.2.0",
            "grid_template_areas": null,
            "object_position": null,
            "object_fit": null,
            "grid_auto_columns": null,
            "margin": null,
            "display": null,
            "left": null
          }
        },
        "174a260b6b61472a81e493e8a8f7c58d": {
          "model_module": "@jupyter-widgets/controls",
          "model_name": "IntProgressModel",
          "state": {
            "_view_name": "ProgressView",
            "style": "IPY_MODEL_1674527db4904c929613fe453cf592dc",
            "_dom_classes": [],
            "description": "100%",
            "_model_name": "IntProgressModel",
            "bar_style": "success",
            "max": 100,
            "_view_module": "@jupyter-widgets/controls",
            "_model_module_version": "1.5.0",
            "value": 100,
            "_view_count": null,
            "_view_module_version": "1.5.0",
            "orientation": "horizontal",
            "min": 0,
            "description_tooltip": null,
            "_model_module": "@jupyter-widgets/controls",
            "layout": "IPY_MODEL_b23cc63cfb4d4a778531c99dee1ef7b5"
          }
        },
        "f23619375ee447078a04d6ff9aa0121d": {
          "model_module": "@jupyter-widgets/controls",
          "model_name": "HTMLModel",
          "state": {
            "_view_name": "HTMLView",
            "style": "IPY_MODEL_df6647ebdb8a4b8da1b94b533f0cc1f4",
            "_dom_classes": [],
            "description": "",
            "_model_name": "HTMLModel",
            "placeholder": "​",
            "_view_module": "@jupyter-widgets/controls",
            "_model_module_version": "1.5.0",
            "value": " 100/100 [06:16&lt;00:00,  3.77s/it]",
            "_view_count": null,
            "_view_module_version": "1.5.0",
            "description_tooltip": null,
            "_model_module": "@jupyter-widgets/controls",
            "layout": "IPY_MODEL_e81c0e4be6b54f6e985f2b6bef428709"
          }
        },
        "1674527db4904c929613fe453cf592dc": {
          "model_module": "@jupyter-widgets/controls",
          "model_name": "ProgressStyleModel",
          "state": {
            "_view_name": "StyleView",
            "_model_name": "ProgressStyleModel",
            "description_width": "initial",
            "_view_module": "@jupyter-widgets/base",
            "_model_module_version": "1.5.0",
            "_view_count": null,
            "_view_module_version": "1.2.0",
            "bar_color": null,
            "_model_module": "@jupyter-widgets/controls"
          }
        },
        "b23cc63cfb4d4a778531c99dee1ef7b5": {
          "model_module": "@jupyter-widgets/base",
          "model_name": "LayoutModel",
          "state": {
            "_view_name": "LayoutView",
            "grid_template_rows": null,
            "right": null,
            "justify_content": null,
            "_view_module": "@jupyter-widgets/base",
            "overflow": null,
            "_model_module_version": "1.2.0",
            "_view_count": null,
            "flex_flow": null,
            "width": null,
            "min_width": null,
            "border": null,
            "align_items": null,
            "bottom": null,
            "_model_module": "@jupyter-widgets/base",
            "top": null,
            "grid_column": null,
            "overflow_y": null,
            "overflow_x": null,
            "grid_auto_flow": null,
            "grid_area": null,
            "grid_template_columns": null,
            "flex": null,
            "_model_name": "LayoutModel",
            "justify_items": null,
            "grid_row": null,
            "max_height": null,
            "align_content": null,
            "visibility": null,
            "align_self": null,
            "height": null,
            "min_height": null,
            "padding": null,
            "grid_auto_rows": null,
            "grid_gap": null,
            "max_width": null,
            "order": null,
            "_view_module_version": "1.2.0",
            "grid_template_areas": null,
            "object_position": null,
            "object_fit": null,
            "grid_auto_columns": null,
            "margin": null,
            "display": null,
            "left": null
          }
        },
        "df6647ebdb8a4b8da1b94b533f0cc1f4": {
          "model_module": "@jupyter-widgets/controls",
          "model_name": "DescriptionStyleModel",
          "state": {
            "_view_name": "StyleView",
            "_model_name": "DescriptionStyleModel",
            "description_width": "",
            "_view_module": "@jupyter-widgets/base",
            "_model_module_version": "1.5.0",
            "_view_count": null,
            "_view_module_version": "1.2.0",
            "_model_module": "@jupyter-widgets/controls"
          }
        },
        "e81c0e4be6b54f6e985f2b6bef428709": {
          "model_module": "@jupyter-widgets/base",
          "model_name": "LayoutModel",
          "state": {
            "_view_name": "LayoutView",
            "grid_template_rows": null,
            "right": null,
            "justify_content": null,
            "_view_module": "@jupyter-widgets/base",
            "overflow": null,
            "_model_module_version": "1.2.0",
            "_view_count": null,
            "flex_flow": null,
            "width": null,
            "min_width": null,
            "border": null,
            "align_items": null,
            "bottom": null,
            "_model_module": "@jupyter-widgets/base",
            "top": null,
            "grid_column": null,
            "overflow_y": null,
            "overflow_x": null,
            "grid_auto_flow": null,
            "grid_area": null,
            "grid_template_columns": null,
            "flex": null,
            "_model_name": "LayoutModel",
            "justify_items": null,
            "grid_row": null,
            "max_height": null,
            "align_content": null,
            "visibility": null,
            "align_self": null,
            "height": null,
            "min_height": null,
            "padding": null,
            "grid_auto_rows": null,
            "grid_gap": null,
            "max_width": null,
            "order": null,
            "_view_module_version": "1.2.0",
            "grid_template_areas": null,
            "object_position": null,
            "object_fit": null,
            "grid_auto_columns": null,
            "margin": null,
            "display": null,
            "left": null
          }
        }
      }
    }
  },
  "cells": [
    {
      "cell_type": "markdown",
      "metadata": {
        "id": "lt28RRJ0LQ2X",
        "colab_type": "text"
      },
      "source": [
        "#Mounting Drive"
      ]
    },
    {
      "cell_type": "code",
      "metadata": {
        "id": "8ShX1MGxXV1Y",
        "colab_type": "code",
        "outputId": "08eecb32-c78b-4ad8-d7dc-b8896aad39b9",
        "colab": {
          "base_uri": "https://localhost:8080/",
          "height": 139
        }
      },
      "source": [
        "from google.colab import drive\n",
        "drive.mount('/content/gdrive')\n",
        "%cd /content/gdrive/My\\ Drive/Assignment/"
      ],
      "execution_count": 1,
      "outputs": [
        {
          "output_type": "stream",
          "text": [
            "Go to this URL in a browser: https://accounts.google.com/o/oauth2/auth?client_id=947318989803-6bn6qk8qdgf4n4g3pfee6491hc0brc4i.apps.googleusercontent.com&redirect_uri=urn%3aietf%3awg%3aoauth%3a2.0%3aoob&response_type=code&scope=email%20https%3a%2f%2fwww.googleapis.com%2fauth%2fdocs.test%20https%3a%2f%2fwww.googleapis.com%2fauth%2fdrive%20https%3a%2f%2fwww.googleapis.com%2fauth%2fdrive.photos.readonly%20https%3a%2f%2fwww.googleapis.com%2fauth%2fpeopleapi.readonly\n",
            "\n",
            "Enter your authorization code:\n",
            "··········\n",
            "Mounted at /content/gdrive\n",
            "/content/gdrive/My Drive/Assignment\n"
          ],
          "name": "stdout"
        }
      ]
    },
    {
      "cell_type": "markdown",
      "metadata": {
        "id": "Iz4T9prin1RQ",
        "colab_type": "text"
      },
      "source": [
        "#Capturing necessary installation"
      ]
    },
    {
      "cell_type": "code",
      "metadata": {
        "id": "-yVpodAMpoCi",
        "colab_type": "code",
        "outputId": "717d4c32-f4a7-4159-944b-2de16f1d6f6f",
        "colab": {
          "base_uri": "https://localhost:8080/",
          "height": 1000
        }
      },
      "source": [
        "!pip install albumentations\n",
        "!pip install torchsummary\n",
        "!pip install torch-lr-finder\n",
        "!pip install torch-lr-finder -v --global-option=\"amp\""
      ],
      "execution_count": 2,
      "outputs": [
        {
          "output_type": "stream",
          "text": [
            "Requirement already satisfied: albumentations in /usr/local/lib/python3.6/dist-packages (0.1.12)\n",
            "Requirement already satisfied: scipy in /usr/local/lib/python3.6/dist-packages (from albumentations) (1.4.1)\n",
            "Requirement already satisfied: numpy>=1.11.1 in /usr/local/lib/python3.6/dist-packages (from albumentations) (1.18.2)\n",
            "Requirement already satisfied: opencv-python in /usr/local/lib/python3.6/dist-packages (from albumentations) (4.1.2.30)\n",
            "Collecting imgaug<0.2.7,>=0.2.5\n",
            "\u001b[?25l  Downloading https://files.pythonhosted.org/packages/ad/2e/748dbb7bb52ec8667098bae9b585f448569ae520031932687761165419a2/imgaug-0.2.6.tar.gz (631kB)\n",
            "\u001b[K     |████████████████████████████████| 634kB 12.5MB/s \n",
            "\u001b[?25hRequirement already satisfied: scikit-image>=0.11.0 in /usr/local/lib/python3.6/dist-packages (from imgaug<0.2.7,>=0.2.5->albumentations) (0.16.2)\n",
            "Requirement already satisfied: six in /usr/local/lib/python3.6/dist-packages (from imgaug<0.2.7,>=0.2.5->albumentations) (1.12.0)\n",
            "Requirement already satisfied: PyWavelets>=0.4.0 in /usr/local/lib/python3.6/dist-packages (from scikit-image>=0.11.0->imgaug<0.2.7,>=0.2.5->albumentations) (1.1.1)\n",
            "Requirement already satisfied: imageio>=2.3.0 in /usr/local/lib/python3.6/dist-packages (from scikit-image>=0.11.0->imgaug<0.2.7,>=0.2.5->albumentations) (2.4.1)\n",
            "Requirement already satisfied: matplotlib!=3.0.0,>=2.0.0 in /usr/local/lib/python3.6/dist-packages (from scikit-image>=0.11.0->imgaug<0.2.7,>=0.2.5->albumentations) (3.2.1)\n",
            "Requirement already satisfied: pillow>=4.3.0 in /usr/local/lib/python3.6/dist-packages (from scikit-image>=0.11.0->imgaug<0.2.7,>=0.2.5->albumentations) (7.0.0)\n",
            "Requirement already satisfied: networkx>=2.0 in /usr/local/lib/python3.6/dist-packages (from scikit-image>=0.11.0->imgaug<0.2.7,>=0.2.5->albumentations) (2.4)\n",
            "Requirement already satisfied: python-dateutil>=2.1 in /usr/local/lib/python3.6/dist-packages (from matplotlib!=3.0.0,>=2.0.0->scikit-image>=0.11.0->imgaug<0.2.7,>=0.2.5->albumentations) (2.8.1)\n",
            "Requirement already satisfied: pyparsing!=2.0.4,!=2.1.2,!=2.1.6,>=2.0.1 in /usr/local/lib/python3.6/dist-packages (from matplotlib!=3.0.0,>=2.0.0->scikit-image>=0.11.0->imgaug<0.2.7,>=0.2.5->albumentations) (2.4.7)\n",
            "Requirement already satisfied: kiwisolver>=1.0.1 in /usr/local/lib/python3.6/dist-packages (from matplotlib!=3.0.0,>=2.0.0->scikit-image>=0.11.0->imgaug<0.2.7,>=0.2.5->albumentations) (1.2.0)\n",
            "Requirement already satisfied: cycler>=0.10 in /usr/local/lib/python3.6/dist-packages (from matplotlib!=3.0.0,>=2.0.0->scikit-image>=0.11.0->imgaug<0.2.7,>=0.2.5->albumentations) (0.10.0)\n",
            "Requirement already satisfied: decorator>=4.3.0 in /usr/local/lib/python3.6/dist-packages (from networkx>=2.0->scikit-image>=0.11.0->imgaug<0.2.7,>=0.2.5->albumentations) (4.4.2)\n",
            "Building wheels for collected packages: imgaug\n",
            "  Building wheel for imgaug (setup.py) ... \u001b[?25l\u001b[?25hdone\n",
            "  Created wheel for imgaug: filename=imgaug-0.2.6-cp36-none-any.whl size=654020 sha256=d88fcace1b404cf965d47e155df79976eee7c0a1ea7eae1c8575f5abc6274b9a\n",
            "  Stored in directory: /root/.cache/pip/wheels/97/ec/48/0d25896c417b715af6236dbcef8f0bed136a1a5e52972fc6d0\n",
            "Successfully built imgaug\n",
            "Installing collected packages: imgaug\n",
            "  Found existing installation: imgaug 0.2.9\n",
            "    Uninstalling imgaug-0.2.9:\n",
            "      Successfully uninstalled imgaug-0.2.9\n",
            "Successfully installed imgaug-0.2.6\n",
            "Requirement already satisfied: torchsummary in /usr/local/lib/python3.6/dist-packages (1.5.1)\n",
            "Collecting torch-lr-finder\n",
            "  Downloading https://files.pythonhosted.org/packages/68/06/7301400132b63f96c3b4f5fbb5033130b9d07b85c9e0e247d4ac03451d80/torch_lr_finder-0.1.4-py3-none-any.whl\n",
            "Requirement already satisfied: torch>=0.4.1 in /usr/local/lib/python3.6/dist-packages (from torch-lr-finder) (1.4.0)\n",
            "Requirement already satisfied: matplotlib in /usr/local/lib/python3.6/dist-packages (from torch-lr-finder) (3.2.1)\n",
            "Requirement already satisfied: numpy in /usr/local/lib/python3.6/dist-packages (from torch-lr-finder) (1.18.2)\n",
            "Requirement already satisfied: tqdm in /usr/local/lib/python3.6/dist-packages (from torch-lr-finder) (4.38.0)\n",
            "Requirement already satisfied: kiwisolver>=1.0.1 in /usr/local/lib/python3.6/dist-packages (from matplotlib->torch-lr-finder) (1.2.0)\n",
            "Requirement already satisfied: python-dateutil>=2.1 in /usr/local/lib/python3.6/dist-packages (from matplotlib->torch-lr-finder) (2.8.1)\n",
            "Requirement already satisfied: cycler>=0.10 in /usr/local/lib/python3.6/dist-packages (from matplotlib->torch-lr-finder) (0.10.0)\n",
            "Requirement already satisfied: pyparsing!=2.0.4,!=2.1.2,!=2.1.6,>=2.0.1 in /usr/local/lib/python3.6/dist-packages (from matplotlib->torch-lr-finder) (2.4.7)\n",
            "Requirement already satisfied: six>=1.5 in /usr/local/lib/python3.6/dist-packages (from python-dateutil>=2.1->matplotlib->torch-lr-finder) (1.12.0)\n",
            "Installing collected packages: torch-lr-finder\n",
            "Successfully installed torch-lr-finder-0.1.4\n",
            "/usr/local/lib/python3.6/dist-packages/pip/_internal/commands/install.py:283: UserWarning: Disabling all use of wheels due to the use of --build-options / --global-options / --install-options.\n",
            "  cmdoptions.check_install_build_global(options)\n",
            "Created temporary directory: /tmp/pip-ephem-wheel-cache-wwi2336o\n",
            "Created temporary directory: /tmp/pip-req-tracker-jrgq9d22\n",
            "Created requirements tracker '/tmp/pip-req-tracker-jrgq9d22'\n",
            "Created temporary directory: /tmp/pip-install-qhvolv8r\n",
            "Requirement already satisfied: torch-lr-finder in /usr/local/lib/python3.6/dist-packages (0.1.4)\n",
            "Requirement already satisfied: numpy in /usr/local/lib/python3.6/dist-packages (from torch-lr-finder) (1.18.2)\n",
            "Requirement already satisfied: tqdm in /usr/local/lib/python3.6/dist-packages (from torch-lr-finder) (4.38.0)\n",
            "Requirement already satisfied: matplotlib in /usr/local/lib/python3.6/dist-packages (from torch-lr-finder) (3.2.1)\n",
            "Requirement already satisfied: torch>=0.4.1 in /usr/local/lib/python3.6/dist-packages (from torch-lr-finder) (1.4.0)\n",
            "Requirement already satisfied: cycler>=0.10 in /usr/local/lib/python3.6/dist-packages (from matplotlib->torch-lr-finder) (0.10.0)\n",
            "Requirement already satisfied: kiwisolver>=1.0.1 in /usr/local/lib/python3.6/dist-packages (from matplotlib->torch-lr-finder) (1.2.0)\n",
            "Requirement already satisfied: python-dateutil>=2.1 in /usr/local/lib/python3.6/dist-packages (from matplotlib->torch-lr-finder) (2.8.1)\n",
            "Requirement already satisfied: pyparsing!=2.0.4,!=2.1.2,!=2.1.6,>=2.0.1 in /usr/local/lib/python3.6/dist-packages (from matplotlib->torch-lr-finder) (2.4.7)\n",
            "Requirement already satisfied: six in /usr/local/lib/python3.6/dist-packages (from cycler>=0.10->matplotlib->torch-lr-finder) (1.12.0)\n",
            "Cleaning up...\n",
            "Removed build tracker '/tmp/pip-req-tracker-jrgq9d22'\n"
          ],
          "name": "stdout"
        }
      ]
    },
    {
      "cell_type": "markdown",
      "metadata": {
        "id": "5kjt4e2TpoCk",
        "colab_type": "text"
      },
      "source": [
        "#Applying transformations\n",
        "For training we used horizontal flip, normalization and cutout\n",
        "\n"
      ]
    },
    {
      "cell_type": "code",
      "metadata": {
        "id": "D8Tjigo2poCl",
        "colab_type": "code",
        "outputId": "6d795e01-c6ab-433a-e1dc-c0dc90b6f1b4",
        "colab": {
          "base_uri": "https://localhost:8080/",
          "height": 51
        }
      },
      "source": [
        "from Transform_utils.transforme_album import Data\n",
        "\n",
        "data = Data()\n",
        "trainset = data.getTrainDataSet(train=True)\n",
        "testset =  data.getTrainDataSet(train=False)\n",
        "trainloader = data.getDataLoader(trainset, 512)\n",
        "trainloader1 = data.getDataLoader(trainset, 4)\n",
        "testloader = data.getDataLoader(testset, 512)\n",
        "testloader1 = data.getDataLoader(testset, 4)\n",
        "classes = ('plane', 'car', 'bird', 'cat',\n",
        "           'deer', 'dog', 'frog', 'horse', 'ship', 'truck')"
      ],
      "execution_count": 3,
      "outputs": [
        {
          "output_type": "stream",
          "text": [
            "Files already downloaded and verified\n",
            "Files already downloaded and verified\n"
          ],
          "name": "stdout"
        }
      ]
    },
    {
      "cell_type": "markdown",
      "metadata": {
        "id": "_cj433rtpoCn",
        "colab_type": "text"
      },
      "source": [
        "#Images display post augmentation\n",
        "\n"
      ]
    },
    {
      "cell_type": "code",
      "metadata": {
        "id": "daA7bADhpoCo",
        "colab_type": "code",
        "outputId": "24bf8a6c-b023-4e9e-c0b6-24e32b716dee",
        "colab": {
          "base_uri": "https://localhost:8080/",
          "height": 206
        }
      },
      "source": [
        "import torchvision\n",
        "import general_utils\n",
        "\n",
        "# get some random training images\n",
        "dataiter = iter(trainloader1)\n",
        "images, labels = dataiter.next()\n",
        "\n",
        "# show images\n",
        "general_utils.imshow(torchvision.utils.make_grid(images))\n",
        "print('     ','      '.join('%5s' % classes[labels[j]] for j in range(4)))"
      ],
      "execution_count": 4,
      "outputs": [
        {
          "output_type": "stream",
          "text": [
            "WARNING:torch_lr_finder.lr_finder:To enable mixed precision training, please install `apex`. Or you can re-install this package by the following command:\n",
            "  pip install torch-lr-finder -v --global-option=\"amp\"\n",
            "WARNING:matplotlib.image:Clipping input data to the valid range for imshow with RGB data ([0..1] for floats or [0..255] for integers).\n"
          ],
          "name": "stderr"
        },
        {
          "output_type": "stream",
          "text": [
            "      plane        dog       deer       deer\n"
          ],
          "name": "stdout"
        },
        {
          "output_type": "display_data",
          "data": {
            "image/png": "[encoded data removed]",
            "text/plain": [
              "<Figure size 432x288 with 1 Axes>"
            ]
          },
          "metadata": {
            "tags": [],
            "needs_background": "light"
          }
        }
      ]
    },
    {
      "cell_type": "markdown",
      "metadata": {
        "id": "28OpHA_LpoCq",
        "colab_type": "text"
      },
      "source": [
        "#Importing torch Summary"
      ]
    },
    {
      "cell_type": "code",
      "metadata": {
        "id": "SERSWQ57fD9M",
        "colab_type": "code",
        "outputId": "abd16a75-3b01-41e1-9631-bdc8c456d79c",
        "colab": {
          "base_uri": "https://localhost:8080/",
          "height": 802
        }
      },
      "source": [
        "from Model_ import S11_resnet as res\n",
        "from torchsummary import summary\n",
        "import cudas\n",
        "import torch\n",
        "\n",
        "device = torch.device(\"cuda\" if cudas.cuda else \"cpu\")\n",
        "net = res.Net().to(device)\n",
        "summary(net, input_size=(3, 32, 32))"
      ],
      "execution_count": 5,
      "outputs": [
        {
          "output_type": "stream",
          "text": [
            "CUDA Available? True\n",
            "----------------------------------------------------------------\n",
            "        Layer (type)               Output Shape         Param #\n",
            "================================================================\n",
            "            Conv2d-1           [-1, 64, 32, 32]           1,728\n",
            "       BatchNorm2d-2           [-1, 64, 32, 32]             128\n",
            "              ReLU-3           [-1, 64, 32, 32]               0\n",
            "            Conv2d-4          [-1, 128, 32, 32]          73,728\n",
            "         MaxPool2d-5          [-1, 128, 16, 16]               0\n",
            "       BatchNorm2d-6          [-1, 128, 16, 16]             256\n",
            "              ReLU-7          [-1, 128, 16, 16]               0\n",
            "            Conv2d-8          [-1, 128, 16, 16]         147,456\n",
            "       BatchNorm2d-9          [-1, 128, 16, 16]             256\n",
            "             ReLU-10          [-1, 128, 16, 16]               0\n",
            "           Conv2d-11          [-1, 128, 16, 16]         147,456\n",
            "      BatchNorm2d-12          [-1, 128, 16, 16]             256\n",
            "        Dropout2d-13          [-1, 128, 16, 16]               0\n",
            "           Conv2d-14          [-1, 256, 16, 16]         294,912\n",
            "        MaxPool2d-15            [-1, 256, 8, 8]               0\n",
            "      BatchNorm2d-16            [-1, 256, 8, 8]             512\n",
            "             ReLU-17            [-1, 256, 8, 8]               0\n",
            "           Conv2d-18            [-1, 512, 8, 8]       1,179,648\n",
            "        MaxPool2d-19            [-1, 512, 4, 4]               0\n",
            "      BatchNorm2d-20            [-1, 512, 4, 4]           1,024\n",
            "             ReLU-21            [-1, 512, 4, 4]               0\n",
            "           Conv2d-22            [-1, 512, 4, 4]       2,359,296\n",
            "      BatchNorm2d-23            [-1, 512, 4, 4]           1,024\n",
            "             ReLU-24            [-1, 512, 4, 4]               0\n",
            "           Conv2d-25            [-1, 512, 4, 4]       2,359,296\n",
            "      BatchNorm2d-26            [-1, 512, 4, 4]           1,024\n",
            "        Dropout2d-27            [-1, 512, 4, 4]               0\n",
            "        MaxPool2d-28            [-1, 512, 1, 1]               0\n",
            "           Linear-29                   [-1, 10]           5,130\n",
            "================================================================\n",
            "Total params: 6,573,130\n",
            "Trainable params: 6,573,130\n",
            "Non-trainable params: 0\n",
            "----------------------------------------------------------------\n",
            "Input size (MB): 0.01\n",
            "Forward/backward pass size (MB): 6.44\n",
            "Params size (MB): 25.07\n",
            "Estimated Total Size (MB): 31.53\n",
            "----------------------------------------------------------------\n"
          ],
          "name": "stdout"
        },
        {
          "output_type": "stream",
          "text": [
            "/content/gdrive/My Drive/Assignment/Model_/S11_resnet.py:61: UserWarning: Implicit dimension choice for softmax has been deprecated. Change the call to include dim=X as an argument.\n",
            "  x = F.softmax(x)\n"
          ],
          "name": "stderr"
        }
      ]
    },
    {
      "cell_type": "markdown",
      "metadata": {
        "id": "GeuDQ7LOGCKJ",
        "colab_type": "text"
      },
      "source": [
        "#Define a Loss function, optimizer\n",
        "#Get LR finder results\n",
        "Let's use a Classification Cross-Entropy loss and SGD with momentum."
      ]
    },
    {
      "cell_type": "code",
      "metadata": {
        "id": "8sUYr80wO7DM",
        "colab_type": "code",
        "colab": {}
      },
      "source": [
        "import matplotlib.pyplot as plt\n",
        "import numpy as np\n",
        "from torch_lr_finder import LRFinder\n",
        "import torch.optim as optim\n",
        "import torch.nn as nn\n",
        "\n",
        "def lrfinder(net, optimizer, criterion, trainloader, valloader):\n",
        "  lr_finder = LRFinder(net, optimizer, criterion, device=\"cuda\")\n",
        "  #lr_finder.range_test(trainloader, end_lr=100, num_iter=100)\n",
        "  lr_finder.range_test(trainloader, val_loader=valloader, end_lr=1, num_iter=100, step_mode=\"exp\")\n",
        "  lr_finder.plot() # to inspect the loss-learning rate graph\n",
        "  lr_finder.reset() # to reset the model and optimizer to their initial state\n"
      ],
      "execution_count": 0,
      "outputs": []
    },
    {
      "cell_type": "code",
      "metadata": {
        "id": "M4xBbDROpoCv",
        "colab_type": "code",
        "outputId": "bb65f39c-610a-4ddb-8549-2841020ac689",
        "colab": {
          "base_uri": "https://localhost:8080/",
          "height": 403,
          "referenced_widgets": [
            "958da4fbe89e4176970b7b4e5d7853f0",
            "1bfffb8bfafb4529992df7142a9d4320",
            "174a260b6b61472a81e493e8a8f7c58d",
            "f23619375ee447078a04d6ff9aa0121d",
            "1674527db4904c929613fe453cf592dc",
            "b23cc63cfb4d4a778531c99dee1ef7b5",
            "df6647ebdb8a4b8da1b94b533f0cc1f4",
            "e81c0e4be6b54f6e985f2b6bef428709"
          ]
        }
      },
      "source": [
        "import general_utils as gu\n",
        "criterion = nn.CrossEntropyLoss()\n",
        "optimizer = optim.SGD(net.parameters(), lr=1e-3, momentum=0.9, weight_decay=0.0001)\n",
        "lrfinder(net, optimizer, criterion, trainloader, testloader)"
      ],
      "execution_count": 7,
      "outputs": [
        {
          "output_type": "display_data",
          "data": {
            "application/vnd.jupyter.widget-view+json": {
              "model_id": "958da4fbe89e4176970b7b4e5d7853f0",
              "version_minor": 0,
              "version_major": 2
            },
            "text/plain": [
              "HBox(children=(IntProgress(value=0), HTML(value='')))"
            ]
          },
          "metadata": {
            "tags": []
          }
        },
        {
          "output_type": "stream",
          "text": [
            "/content/gdrive/My Drive/Assignment/Model_/S11_resnet.py:61: UserWarning: Implicit dimension choice for softmax has been deprecated. Change the call to include dim=X as an argument.\n",
            "  x = F.softmax(x)\n"
          ],
          "name": "stderr"
        },
        {
          "output_type": "stream",
          "text": [
            "\n",
            "Learning rate search finished. See the graph with {finder_name}.plot()\n"
          ],
          "name": "stdout"
        },
        {
          "output_type": "display_data",
          "data": {
            "image/png": "[encoded data removed]",
            "text/plain": [
              "<Figure size 432x288 with 1 Axes>"
            ]
          },
          "metadata": {
            "tags": [],
            "needs_background": "light"
          }
        }
      ]
    },
    {
      "cell_type": "markdown",
      "metadata": {
        "id": "QrpXr9wakSHo",
        "colab_type": "text"
      },
      "source": [
        "#Set training params to find max LR"
      ]
    },
    {
      "cell_type": "code",
      "metadata": {
        "id": "uM8v5RUSlA92",
        "colab_type": "code",
        "colab": {}
      },
      "source": [
        "net = res.Net().to(device)\n",
        "criterion = nn.CrossEntropyLoss()\n",
        "optimizer = optim.SGD(net.parameters(), lr=5e-3, momentum=0.81, weight_decay=0.0085)\n",
        "scheduler = torch.optim.lr_scheduler.StepLR(optimizer, step_size=1, gamma=1.2)\n",
        "\n",
        "#scheduler = torch.optim.lr_scheduler.CyclicLR(optimizer, base_lr=0.02, max_lr=0.05, step_size_up=5/24, step_size_down=20/24, mode='triangular')\n",
        "#scheduler = torch.optim.lr_scheduler.ReduceLROnPlateau(optimizer, mode='min', factor=0.5, patience=5, verbose=False, threshold=0.0001, threshold_mode='rel', cooldown=0, min_lr=0, eps=1e-08)"
      ],
      "execution_count": 0,
      "outputs": []
    },
    {
      "cell_type": "markdown",
      "metadata": {
        "id": "eoLQhGmdkBFS",
        "colab_type": "text"
      },
      "source": [
        "#Keep increasing learning rate with epoch to figure out max LR"
      ]
    },
    {
      "cell_type": "code",
      "metadata": {
        "id": "kkuRfo1IpoC3",
        "colab_type": "code",
        "outputId": "c707a8ab-e822-4c14-df32-fc23838d1a80",
        "colab": {
          "base_uri": "https://localhost:8080/",
          "height": 1000
        }
      },
      "source": [
        "import torch\n",
        "from tqdm import tqdm\n",
        "from Train_Test_utils.traine import train\n",
        "from Train_Test_utils.teste import test\n",
        "test_acc = []\n",
        "train_acc = []\n",
        "trainloss_ = []\n",
        "testloss_ = []\n",
        "lr_ = []\n",
        "loss=1000\n",
        "loss1= 1000\n",
        "for epoch in range(20):  # loop over the dataset multiple times\n",
        "    for param_group in optimizer.param_groups:\n",
        "      print(\"lr= \",param_group['lr'])\n",
        "      lr_.append(param_group['lr'])\n",
        "    trainacc, loss = train(net, device, trainloader, optimizer, criterion, epoch)\n",
        "    train_acc.append(trainacc)\n",
        "    testacc, loss1 = test(net, device, testloader, criterion)\n",
        "    test_acc.append(testacc)\n",
        "    trainloss_.append(loss)\n",
        "    testloss_.append(loss1)\n",
        "    scheduler.step()\n",
        "print('Finished Training')"
      ],
      "execution_count": 9,
      "outputs": [
        {
          "output_type": "stream",
          "text": [
            "\r  0%|          | 0/98 [00:00<?, ?it/s]"
          ],
          "name": "stderr"
        },
        {
          "output_type": "stream",
          "text": [
            "lr=  0.005\n"
          ],
          "name": "stdout"
        },
        {
          "output_type": "stream",
          "text": [
            "/content/gdrive/My Drive/Assignment/Model_/S11_resnet.py:61: UserWarning: Implicit dimension choice for softmax has been deprecated. Change the call to include dim=X as an argument.\n",
            "  x = F.softmax(x)\n",
            "Epoch= 0 Loss=2.1081604957580566 Batch_id=97 Accuracy=37.80: 100%|██████████| 98/98 [00:30<00:00,  3.25it/s]\n",
            "100%|██████████| 20/20 [00:03<00:00,  5.68it/s]\n",
            "  0%|          | 0/98 [00:00<?, ?it/s]"
          ],
          "name": "stderr"
        },
        {
          "output_type": "stream",
          "text": [
            "Test Loss= 2.1300795 Test Accuracy= 36.77\n",
            "lr=  0.006\n"
          ],
          "name": "stdout"
        },
        {
          "output_type": "stream",
          "text": [
            "Epoch= 1 Loss=2.0489227771759033 Batch_id=97 Accuracy=41.67: 100%|██████████| 98/98 [00:30<00:00,  3.22it/s]\n",
            "100%|██████████| 20/20 [00:03<00:00,  5.49it/s]\n",
            "  0%|          | 0/98 [00:00<?, ?it/s]"
          ],
          "name": "stderr"
        },
        {
          "output_type": "stream",
          "text": [
            "Test Loss= 2.0038188 Test Accuracy= 44.48\n",
            "lr=  0.0072\n"
          ],
          "name": "stdout"
        },
        {
          "output_type": "stream",
          "text": [
            "Epoch= 2 Loss=1.9736438989639282 Batch_id=97 Accuracy=51.49: 100%|██████████| 98/98 [00:30<00:00,  3.20it/s]\n",
            "100%|██████████| 20/20 [00:03<00:00,  5.72it/s]\n",
            "  0%|          | 0/98 [00:00<?, ?it/s]"
          ],
          "name": "stderr"
        },
        {
          "output_type": "stream",
          "text": [
            "Test Loss= 1.9736644 Test Accuracy= 48.59\n",
            "lr=  0.00864\n"
          ],
          "name": "stdout"
        },
        {
          "output_type": "stream",
          "text": [
            "Epoch= 3 Loss=1.8596173524856567 Batch_id=97 Accuracy=66.96: 100%|██████████| 98/98 [00:30<00:00,  3.22it/s]\n",
            "100%|██████████| 20/20 [00:03<00:00,  5.65it/s]\n",
            "  0%|          | 0/98 [00:00<?, ?it/s]"
          ],
          "name": "stderr"
        },
        {
          "output_type": "stream",
          "text": [
            "Test Loss= 1.9207944 Test Accuracy= 56.72\n",
            "lr=  0.010368\n"
          ],
          "name": "stdout"
        },
        {
          "output_type": "stream",
          "text": [
            "Epoch= 4 Loss=1.8244181871414185 Batch_id=97 Accuracy=67.56: 100%|██████████| 98/98 [00:30<00:00,  3.21it/s]\n",
            "100%|██████████| 20/20 [00:03<00:00,  5.47it/s]\n",
            "  0%|          | 0/98 [00:00<?, ?it/s]"
          ],
          "name": "stderr"
        },
        {
          "output_type": "stream",
          "text": [
            "Test Loss= 1.8561566 Test Accuracy= 62.13\n",
            "lr=  0.0124416\n"
          ],
          "name": "stdout"
        },
        {
          "output_type": "stream",
          "text": [
            "Epoch= 5 Loss=1.827689528465271 Batch_id=97 Accuracy=68.45: 100%|██████████| 98/98 [00:30<00:00,  3.22it/s]\n",
            "100%|██████████| 20/20 [00:03<00:00,  5.55it/s]\n",
            "  0%|          | 0/98 [00:00<?, ?it/s]"
          ],
          "name": "stderr"
        },
        {
          "output_type": "stream",
          "text": [
            "Test Loss= 1.8214331 Test Accuracy= 64.68\n",
            "lr=  0.01492992\n"
          ],
          "name": "stdout"
        },
        {
          "output_type": "stream",
          "text": [
            "Epoch= 6 Loss=1.7996289730072021 Batch_id=97 Accuracy=74.11: 100%|██████████| 98/98 [00:30<00:00,  3.22it/s]\n",
            "100%|██████████| 20/20 [00:03<00:00,  5.49it/s]\n",
            "  0%|          | 0/98 [00:00<?, ?it/s]"
          ],
          "name": "stderr"
        },
        {
          "output_type": "stream",
          "text": [
            "Test Loss= 1.8259935 Test Accuracy= 65.77\n",
            "lr=  0.017915904\n"
          ],
          "name": "stdout"
        },
        {
          "output_type": "stream",
          "text": [
            "Epoch= 7 Loss=1.7372376918792725 Batch_id=97 Accuracy=77.98: 100%|██████████| 98/98 [00:30<00:00,  3.22it/s]\n",
            "100%|██████████| 20/20 [00:03<00:00,  5.56it/s]\n",
            "  0%|          | 0/98 [00:00<?, ?it/s]"
          ],
          "name": "stderr"
        },
        {
          "output_type": "stream",
          "text": [
            "Test Loss= 1.7930856 Test Accuracy= 69.66\n",
            "lr=  0.0214990848\n"
          ],
          "name": "stdout"
        },
        {
          "output_type": "stream",
          "text": [
            "Epoch= 8 Loss=1.753169298171997 Batch_id=97 Accuracy=79.17: 100%|██████████| 98/98 [00:30<00:00,  3.21it/s]\n",
            "100%|██████████| 20/20 [00:03<00:00,  5.39it/s]\n",
            "  0%|          | 0/98 [00:00<?, ?it/s]"
          ],
          "name": "stderr"
        },
        {
          "output_type": "stream",
          "text": [
            "Test Loss= 1.7114779 Test Accuracy= 72.55\n",
            "lr=  0.025798901759999996\n"
          ],
          "name": "stdout"
        },
        {
          "output_type": "stream",
          "text": [
            "Epoch= 9 Loss=1.716670036315918 Batch_id=97 Accuracy=80.36: 100%|██████████| 98/98 [00:30<00:00,  3.20it/s]\n",
            "100%|██████████| 20/20 [00:03<00:00,  5.46it/s]\n",
            "  0%|          | 0/98 [00:00<?, ?it/s]"
          ],
          "name": "stderr"
        },
        {
          "output_type": "stream",
          "text": [
            "Test Loss= 1.6919736 Test Accuracy= 72.97\n",
            "lr=  0.030958682111999994\n"
          ],
          "name": "stdout"
        },
        {
          "output_type": "stream",
          "text": [
            "Epoch= 10 Loss=1.724313497543335 Batch_id=97 Accuracy=81.85: 100%|██████████| 98/98 [00:30<00:00,  3.22it/s]\n",
            "100%|██████████| 20/20 [00:03<00:00,  5.53it/s]\n",
            "  0%|          | 0/98 [00:00<?, ?it/s]"
          ],
          "name": "stderr"
        },
        {
          "output_type": "stream",
          "text": [
            "Test Loss= 1.710214 Test Accuracy= 75.28\n",
            "lr=  0.037150418534399994\n"
          ],
          "name": "stdout"
        },
        {
          "output_type": "stream",
          "text": [
            "Epoch= 11 Loss=1.6956679821014404 Batch_id=97 Accuracy=83.63: 100%|██████████| 98/98 [00:30<00:00,  3.21it/s]\n",
            "100%|██████████| 20/20 [00:03<00:00,  5.42it/s]\n",
            "  0%|          | 0/98 [00:00<?, ?it/s]"
          ],
          "name": "stderr"
        },
        {
          "output_type": "stream",
          "text": [
            "Test Loss= 1.7556922 Test Accuracy= 71.93\n",
            "lr=  0.04458050224127999\n"
          ],
          "name": "stdout"
        },
        {
          "output_type": "stream",
          "text": [
            "Epoch= 12 Loss=1.6863749027252197 Batch_id=97 Accuracy=87.20: 100%|██████████| 98/98 [00:30<00:00,  3.20it/s]\n",
            "100%|██████████| 20/20 [00:03<00:00,  5.51it/s]\n",
            "  0%|          | 0/98 [00:00<?, ?it/s]"
          ],
          "name": "stderr"
        },
        {
          "output_type": "stream",
          "text": [
            "Test Loss= 1.7152722 Test Accuracy= 76.42\n",
            "lr=  0.05349660268953599\n"
          ],
          "name": "stdout"
        },
        {
          "output_type": "stream",
          "text": [
            "Epoch= 13 Loss=1.7045305967330933 Batch_id=97 Accuracy=84.82: 100%|██████████| 98/98 [00:30<00:00,  3.23it/s]\n",
            "100%|██████████| 20/20 [00:03<00:00,  5.62it/s]\n",
            "  0%|          | 0/98 [00:00<?, ?it/s]"
          ],
          "name": "stderr"
        },
        {
          "output_type": "stream",
          "text": [
            "Test Loss= 1.7018242 Test Accuracy= 78.25\n",
            "lr=  0.06419592322744318\n"
          ],
          "name": "stdout"
        },
        {
          "output_type": "stream",
          "text": [
            "Epoch= 14 Loss=1.6933461427688599 Batch_id=97 Accuracy=87.50: 100%|██████████| 98/98 [00:30<00:00,  3.20it/s]\n",
            "100%|██████████| 20/20 [00:03<00:00,  5.31it/s]\n",
            "  0%|          | 0/98 [00:00<?, ?it/s]"
          ],
          "name": "stderr"
        },
        {
          "output_type": "stream",
          "text": [
            "Test Loss= 1.7242669 Test Accuracy= 77.49\n",
            "lr=  0.07703510787293182\n"
          ],
          "name": "stdout"
        },
        {
          "output_type": "stream",
          "text": [
            "Epoch= 15 Loss=1.7064447402954102 Batch_id=97 Accuracy=86.31: 100%|██████████| 98/98 [00:30<00:00,  3.20it/s]\n",
            "100%|██████████| 20/20 [00:03<00:00,  5.38it/s]\n",
            "  0%|          | 0/98 [00:00<?, ?it/s]"
          ],
          "name": "stderr"
        },
        {
          "output_type": "stream",
          "text": [
            "Test Loss= 1.7561991 Test Accuracy= 73.24\n",
            "lr=  0.09244212944751817\n"
          ],
          "name": "stdout"
        },
        {
          "output_type": "stream",
          "text": [
            "Epoch= 16 Loss=1.7053781747817993 Batch_id=97 Accuracy=88.99: 100%|██████████| 98/98 [00:30<00:00,  3.20it/s]\n",
            "100%|██████████| 20/20 [00:03<00:00,  5.42it/s]\n",
            "  0%|          | 0/98 [00:00<?, ?it/s]"
          ],
          "name": "stderr"
        },
        {
          "output_type": "stream",
          "text": [
            "Test Loss= 1.77705 Test Accuracy= 68.64\n",
            "lr=  0.1109305553370218\n"
          ],
          "name": "stdout"
        },
        {
          "output_type": "stream",
          "text": [
            "Epoch= 17 Loss=1.7238225936889648 Batch_id=97 Accuracy=85.42: 100%|██████████| 98/98 [00:30<00:00,  3.20it/s]\n",
            "100%|██████████| 20/20 [00:03<00:00,  5.42it/s]\n",
            "  0%|          | 0/98 [00:00<?, ?it/s]"
          ],
          "name": "stderr"
        },
        {
          "output_type": "stream",
          "text": [
            "Test Loss= 1.8139839 Test Accuracy= 69.12\n",
            "lr=  0.13311666640442615\n"
          ],
          "name": "stdout"
        },
        {
          "output_type": "stream",
          "text": [
            "Epoch= 18 Loss=1.7288068532943726 Batch_id=97 Accuracy=84.52: 100%|██████████| 98/98 [00:30<00:00,  3.22it/s]\n",
            "100%|██████████| 20/20 [00:03<00:00,  5.31it/s]\n",
            "  0%|          | 0/98 [00:00<?, ?it/s]"
          ],
          "name": "stderr"
        },
        {
          "output_type": "stream",
          "text": [
            "Test Loss= 1.8180146 Test Accuracy= 72.38\n",
            "lr=  0.15973999968531138\n"
          ],
          "name": "stdout"
        },
        {
          "output_type": "stream",
          "text": [
            "Epoch= 19 Loss=1.7575517892837524 Batch_id=97 Accuracy=83.33: 100%|██████████| 98/98 [00:30<00:00,  3.22it/s]\n",
            "100%|██████████| 20/20 [00:03<00:00,  5.53it/s]"
          ],
          "name": "stderr"
        },
        {
          "output_type": "stream",
          "text": [
            "Test Loss= 1.8342173 Test Accuracy= 63.94\n",
            "Finished Training\n"
          ],
          "name": "stdout"
        },
        {
          "output_type": "stream",
          "text": [
            "\n"
          ],
          "name": "stderr"
        }
      ]
    },
    {
      "cell_type": "markdown",
      "metadata": {
        "id": "ZPorXB3bj21J",
        "colab_type": "text"
      },
      "source": [
        "#Accuracy vs LR plot as mentioned in lecture"
      ]
    },
    {
      "cell_type": "code",
      "metadata": {
        "id": "3jEdDU2hP99F",
        "colab_type": "code",
        "outputId": "73c2b6bf-ca75-4159-c357-97d6c1b983c5",
        "colab": {
          "base_uri": "https://localhost:8080/",
          "height": 185
        }
      },
      "source": [
        "import matplotlib.pyplot as plt\n",
        "fig = plt.figure()\n",
        "ax = fig.add_subplot(2, 1, 1)\n",
        "line, = ax.plot(lr_, test_acc)\n",
        "ax.set_xscale('log')\n",
        "ax.set_xlabel(\"Learning rate\")\n",
        "ax.set_ylabel(\"Accuracy\")"
      ],
      "execution_count": 10,
      "outputs": [
        {
          "output_type": "execute_result",
          "data": {
            "text/plain": [
              "Text(0, 0.5, 'Accuracy')"
            ]
          },
          "metadata": {
            "tags": []
          },
          "execution_count": 10
        },
        {
          "output_type": "display_data",
          "data": {
            "image/png": "[encoded data removed]",
            "text/plain": [
              "<Figure size 432x288 with 1 Axes>"
            ]
          },
          "metadata": {
            "tags": [],
            "needs_background": "light"
          }
        }
      ]
    },
    {
      "cell_type": "markdown",
      "metadata": {
        "id": "8pdE-HXNjrvv",
        "colab_type": "text"
      },
      "source": [
        "#Training the classifier with maxlr obtained above"
      ]
    },
    {
      "cell_type": "code",
      "metadata": {
        "id": "YcOepWam2kuz",
        "colab_type": "code",
        "colab": {}
      },
      "source": [
        "net = res.Net().to(device)\n",
        "optimizer = optim.SGD(net.parameters(), lr=0.005, momentum=0.81, weight_decay=0.0085)\n",
        "scheduler = torch.optim.lr_scheduler.CyclicLR(optimizer, base_lr=0.0025, max_lr=0.055, step_size_up=5, step_size_down=19, mode='triangular2')"
      ],
      "execution_count": 0,
      "outputs": []
    },
    {
      "cell_type": "code",
      "metadata": {
        "id": "sUlQdZGX2ScE",
        "colab_type": "code",
        "outputId": "7a4e464f-b70c-4868-ab3d-98e4995f7b70",
        "colab": {
          "base_uri": "https://localhost:8080/",
          "height": 1000
        }
      },
      "source": [
        "import torch\n",
        "from tqdm import tqdm\n",
        "from Train_Test_utils.traine import train\n",
        "from Train_Test_utils.teste import test\n",
        "test_acc = []\n",
        "train_acc = []\n",
        "trainloss_ = []\n",
        "testloss_ = []\n",
        "lr_ = []\n",
        "loss=1000\n",
        "loss1= 1000\n",
        "prev_loss1=1000\n",
        "nn.Dropout2d\n",
        "for epoch in range(25):  # loop over the dataset multiple times\n",
        "    for param_group in optimizer.param_groups:\n",
        "      print(\"lr= \",param_group['lr'])\n",
        "      lr_.append(param_group['lr'])\n",
        "    trainacc, loss = train(net, device, trainloader, optimizer, criterion, epoch)\n",
        "    train_acc.append(trainacc)\n",
        "    testacc, loss1 = test(net, device, testloader, criterion)\n",
        "    test_acc.append(testacc)\n",
        "    trainloss_.append(loss)\n",
        "    testloss_.append(loss1)\n",
        "    scheduler.step()\n",
        "print('Finished Training')"
      ],
      "execution_count": 12,
      "outputs": [
        {
          "output_type": "stream",
          "text": [
            "\r  0%|          | 0/98 [00:00<?, ?it/s]"
          ],
          "name": "stderr"
        },
        {
          "output_type": "stream",
          "text": [
            "lr=  0.0025\n"
          ],
          "name": "stdout"
        },
        {
          "output_type": "stream",
          "text": [
            "/content/gdrive/My Drive/Assignment/Model_/S11_resnet.py:61: UserWarning: Implicit dimension choice for softmax has been deprecated. Change the call to include dim=X as an argument.\n",
            "  x = F.softmax(x)\n",
            "Epoch= 0 Loss=2.1483681201934814 Batch_id=97 Accuracy=28.57: 100%|██████████| 98/98 [00:30<00:00,  3.25it/s]\n",
            "100%|██████████| 20/20 [00:03<00:00,  5.61it/s]\n",
            "  0%|          | 0/98 [00:00<?, ?it/s]"
          ],
          "name": "stderr"
        },
        {
          "output_type": "stream",
          "text": [
            "Test Loss= 2.157087 Test Accuracy= 32.46\n",
            "lr=  0.013000000000000018\n"
          ],
          "name": "stdout"
        },
        {
          "output_type": "stream",
          "text": [
            "Epoch= 1 Loss=2.0530219078063965 Batch_id=97 Accuracy=41.96: 100%|██████████| 98/98 [00:30<00:00,  3.25it/s]\n",
            "100%|██████████| 20/20 [00:03<00:00,  5.66it/s]\n",
            "  0%|          | 0/98 [00:00<?, ?it/s]"
          ],
          "name": "stderr"
        },
        {
          "output_type": "stream",
          "text": [
            "Test Loss= 2.0376225 Test Accuracy= 42.67\n",
            "lr=  0.02349999999999998\n"
          ],
          "name": "stdout"
        },
        {
          "output_type": "stream",
          "text": [
            "Epoch= 2 Loss=1.9736043214797974 Batch_id=97 Accuracy=54.76: 100%|██████████| 98/98 [00:30<00:00,  3.21it/s]\n",
            "100%|██████████| 20/20 [00:03<00:00,  5.48it/s]\n",
            "  0%|          | 0/98 [00:00<?, ?it/s]"
          ],
          "name": "stderr"
        },
        {
          "output_type": "stream",
          "text": [
            "Test Loss= 1.9521433 Test Accuracy= 46.11\n",
            "lr=  0.034\n"
          ],
          "name": "stdout"
        },
        {
          "output_type": "stream",
          "text": [
            "Epoch= 3 Loss=1.9546056985855103 Batch_id=97 Accuracy=55.65: 100%|██████████| 98/98 [00:30<00:00,  3.22it/s]\n",
            "100%|██████████| 20/20 [00:03<00:00,  5.45it/s]\n",
            "  0%|          | 0/98 [00:00<?, ?it/s]"
          ],
          "name": "stderr"
        },
        {
          "output_type": "stream",
          "text": [
            "Test Loss= 1.9760325 Test Accuracy= 49.19\n",
            "lr=  0.04450000000000001\n"
          ],
          "name": "stdout"
        },
        {
          "output_type": "stream",
          "text": [
            "Epoch= 4 Loss=1.8679840564727783 Batch_id=97 Accuracy=65.77: 100%|██████████| 98/98 [00:30<00:00,  3.20it/s]\n",
            "100%|██████████| 20/20 [00:03<00:00,  5.49it/s]\n",
            "  0%|          | 0/98 [00:00<?, ?it/s]"
          ],
          "name": "stderr"
        },
        {
          "output_type": "stream",
          "text": [
            "Test Loss= 1.9452373 Test Accuracy= 53.4\n",
            "lr=  0.05499999999999998\n"
          ],
          "name": "stdout"
        },
        {
          "output_type": "stream",
          "text": [
            "Epoch= 5 Loss=1.8698875904083252 Batch_id=97 Accuracy=66.96: 100%|██████████| 98/98 [00:30<00:00,  3.21it/s]\n",
            "100%|██████████| 20/20 [00:03<00:00,  5.55it/s]\n",
            "  0%|          | 0/98 [00:00<?, ?it/s]"
          ],
          "name": "stderr"
        },
        {
          "output_type": "stream",
          "text": [
            "Test Loss= 1.8816224 Test Accuracy= 58.73\n",
            "lr=  0.05223684210526316\n"
          ],
          "name": "stdout"
        },
        {
          "output_type": "stream",
          "text": [
            "Epoch= 6 Loss=1.7795064449310303 Batch_id=97 Accuracy=76.49: 100%|██████████| 98/98 [00:30<00:00,  3.22it/s]\n",
            "100%|██████████| 20/20 [00:03<00:00,  5.40it/s]\n",
            "  0%|          | 0/98 [00:00<?, ?it/s]"
          ],
          "name": "stderr"
        },
        {
          "output_type": "stream",
          "text": [
            "Test Loss= 1.8174655 Test Accuracy= 65.62\n",
            "lr=  0.04947368421052631\n"
          ],
          "name": "stdout"
        },
        {
          "output_type": "stream",
          "text": [
            "Epoch= 7 Loss=1.7387175559997559 Batch_id=97 Accuracy=82.14: 100%|██████████| 98/98 [00:30<00:00,  3.21it/s]\n",
            "100%|██████████| 20/20 [00:03<00:00,  5.57it/s]\n",
            "  0%|          | 0/98 [00:00<?, ?it/s]"
          ],
          "name": "stderr"
        },
        {
          "output_type": "stream",
          "text": [
            "Test Loss= 1.7696491 Test Accuracy= 75.86\n",
            "lr=  0.04671052631578948\n"
          ],
          "name": "stdout"
        },
        {
          "output_type": "stream",
          "text": [
            "Epoch= 8 Loss=1.6823883056640625 Batch_id=97 Accuracy=86.90: 100%|██████████| 98/98 [00:30<00:00,  3.23it/s]\n",
            "100%|██████████| 20/20 [00:03<00:00,  5.56it/s]\n",
            "  0%|          | 0/98 [00:00<?, ?it/s]"
          ],
          "name": "stderr"
        },
        {
          "output_type": "stream",
          "text": [
            "Test Loss= 1.7797757 Test Accuracy= 71.74\n",
            "lr=  0.04394736842105263\n"
          ],
          "name": "stdout"
        },
        {
          "output_type": "stream",
          "text": [
            "Epoch= 9 Loss=1.6964166164398193 Batch_id=97 Accuracy=85.71: 100%|██████████| 98/98 [00:30<00:00,  3.22it/s]\n",
            "100%|██████████| 20/20 [00:03<00:00,  5.56it/s]\n",
            "  0%|          | 0/98 [00:00<?, ?it/s]"
          ],
          "name": "stderr"
        },
        {
          "output_type": "stream",
          "text": [
            "Test Loss= 1.713079 Test Accuracy= 77.37\n",
            "lr=  0.04118421052631579\n"
          ],
          "name": "stdout"
        },
        {
          "output_type": "stream",
          "text": [
            "Epoch= 10 Loss=1.6923155784606934 Batch_id=97 Accuracy=84.23: 100%|██████████| 98/98 [00:30<00:00,  3.23it/s]\n",
            "100%|██████████| 20/20 [00:03<00:00,  5.53it/s]\n",
            "  0%|          | 0/98 [00:00<?, ?it/s]"
          ],
          "name": "stderr"
        },
        {
          "output_type": "stream",
          "text": [
            "Test Loss= 1.7958575 Test Accuracy= 71.2\n",
            "lr=  0.03842105263157895\n"
          ],
          "name": "stdout"
        },
        {
          "output_type": "stream",
          "text": [
            "Epoch= 11 Loss=1.693864345550537 Batch_id=97 Accuracy=86.01: 100%|██████████| 98/98 [00:30<00:00,  3.22it/s]\n",
            "100%|██████████| 20/20 [00:03<00:00,  5.73it/s]\n",
            "  0%|          | 0/98 [00:00<?, ?it/s]"
          ],
          "name": "stderr"
        },
        {
          "output_type": "stream",
          "text": [
            "Test Loss= 1.6480495 Test Accuracy= 80.29\n",
            "lr=  0.03565789473684211\n"
          ],
          "name": "stdout"
        },
        {
          "output_type": "stream",
          "text": [
            "Epoch= 12 Loss=1.6488487720489502 Batch_id=97 Accuracy=89.88: 100%|██████████| 98/98 [00:30<00:00,  3.24it/s]\n",
            "100%|██████████| 20/20 [00:03<00:00,  5.50it/s]\n",
            "  0%|          | 0/98 [00:00<?, ?it/s]"
          ],
          "name": "stderr"
        },
        {
          "output_type": "stream",
          "text": [
            "Test Loss= 1.7106081 Test Accuracy= 80.34\n",
            "lr=  0.032894736842105275\n"
          ],
          "name": "stdout"
        },
        {
          "output_type": "stream",
          "text": [
            "Epoch= 13 Loss=1.6680079698562622 Batch_id=97 Accuracy=87.50: 100%|██████████| 98/98 [00:30<00:00,  3.22it/s]\n",
            "100%|██████████| 20/20 [00:03<00:00,  5.62it/s]\n",
            "  0%|          | 0/98 [00:00<?, ?it/s]"
          ],
          "name": "stderr"
        },
        {
          "output_type": "stream",
          "text": [
            "Test Loss= 1.7509894 Test Accuracy= 79.17\n",
            "lr=  0.030131578947368412\n"
          ],
          "name": "stdout"
        },
        {
          "output_type": "stream",
          "text": [
            "Epoch= 14 Loss=1.6337734460830688 Batch_id=97 Accuracy=91.96: 100%|██████████| 98/98 [00:30<00:00,  3.21it/s]\n",
            "100%|██████████| 20/20 [00:03<00:00,  5.51it/s]\n",
            "  0%|          | 0/98 [00:00<?, ?it/s]"
          ],
          "name": "stderr"
        },
        {
          "output_type": "stream",
          "text": [
            "Test Loss= 1.702321 Test Accuracy= 79.51\n",
            "lr=  0.027368421052631577\n"
          ],
          "name": "stdout"
        },
        {
          "output_type": "stream",
          "text": [
            "Epoch= 15 Loss=1.6305732727050781 Batch_id=97 Accuracy=91.67: 100%|██████████| 98/98 [00:30<00:00,  3.23it/s]\n",
            "100%|██████████| 20/20 [00:03<00:00,  5.32it/s]\n",
            "  0%|          | 0/98 [00:00<?, ?it/s]"
          ],
          "name": "stderr"
        },
        {
          "output_type": "stream",
          "text": [
            "Test Loss= 1.6748339 Test Accuracy= 81.2\n",
            "lr=  0.024605263157894745\n"
          ],
          "name": "stdout"
        },
        {
          "output_type": "stream",
          "text": [
            "Epoch= 16 Loss=1.6503695249557495 Batch_id=97 Accuracy=88.10: 100%|██████████| 98/98 [00:30<00:00,  3.22it/s]\n",
            "100%|██████████| 20/20 [00:03<00:00,  5.52it/s]\n",
            "  0%|          | 0/98 [00:00<?, ?it/s]"
          ],
          "name": "stderr"
        },
        {
          "output_type": "stream",
          "text": [
            "Test Loss= 1.7087861 Test Accuracy= 83.34\n",
            "lr=  0.02184210526315788\n"
          ],
          "name": "stdout"
        },
        {
          "output_type": "stream",
          "text": [
            "Epoch= 17 Loss=1.626828670501709 Batch_id=97 Accuracy=91.07: 100%|██████████| 98/98 [00:30<00:00,  3.23it/s]\n",
            "100%|██████████| 20/20 [00:03<00:00,  5.50it/s]\n",
            "  0%|          | 0/98 [00:00<?, ?it/s]"
          ],
          "name": "stderr"
        },
        {
          "output_type": "stream",
          "text": [
            "Test Loss= 1.6950294 Test Accuracy= 82.91\n",
            "lr=  0.019078947368421053\n"
          ],
          "name": "stdout"
        },
        {
          "output_type": "stream",
          "text": [
            "Epoch= 18 Loss=1.646131992340088 Batch_id=97 Accuracy=91.07: 100%|██████████| 98/98 [00:30<00:00,  3.22it/s]\n",
            "100%|██████████| 20/20 [00:03<00:00,  5.53it/s]\n",
            "  0%|          | 0/98 [00:00<?, ?it/s]"
          ],
          "name": "stderr"
        },
        {
          "output_type": "stream",
          "text": [
            "Test Loss= 1.6279298 Test Accuracy= 85.33\n",
            "lr=  0.01631578947368422\n"
          ],
          "name": "stdout"
        },
        {
          "output_type": "stream",
          "text": [
            "Epoch= 19 Loss=1.6214673519134521 Batch_id=97 Accuracy=90.48: 100%|██████████| 98/98 [00:30<00:00,  3.22it/s]\n",
            "100%|██████████| 20/20 [00:03<00:00,  5.40it/s]\n",
            "  0%|          | 0/98 [00:00<?, ?it/s]"
          ],
          "name": "stderr"
        },
        {
          "output_type": "stream",
          "text": [
            "Test Loss= 1.6537223 Test Accuracy= 82.58\n",
            "lr=  0.01355263157894736\n"
          ],
          "name": "stdout"
        },
        {
          "output_type": "stream",
          "text": [
            "Epoch= 20 Loss=1.5924828052520752 Batch_id=97 Accuracy=95.54: 100%|██████████| 98/98 [00:30<00:00,  3.23it/s]\n",
            "100%|██████████| 20/20 [00:03<00:00,  5.55it/s]\n",
            "  0%|          | 0/98 [00:00<?, ?it/s]"
          ],
          "name": "stderr"
        },
        {
          "output_type": "stream",
          "text": [
            "Test Loss= 1.6505415 Test Accuracy= 85.48\n",
            "lr=  0.010789473684210528\n"
          ],
          "name": "stdout"
        },
        {
          "output_type": "stream",
          "text": [
            "Epoch= 21 Loss=1.609815001487732 Batch_id=97 Accuracy=92.26: 100%|██████████| 98/98 [00:30<00:00,  3.23it/s]\n",
            "100%|██████████| 20/20 [00:03<00:00,  5.44it/s]\n",
            "  0%|          | 0/98 [00:00<?, ?it/s]"
          ],
          "name": "stderr"
        },
        {
          "output_type": "stream",
          "text": [
            "Test Loss= 1.5975527 Test Accuracy= 87.69\n",
            "lr=  0.008026315789473694\n"
          ],
          "name": "stdout"
        },
        {
          "output_type": "stream",
          "text": [
            "Epoch= 22 Loss=1.5805071592330933 Batch_id=97 Accuracy=94.64: 100%|██████████| 98/98 [00:30<00:00,  3.21it/s]\n",
            "100%|██████████| 20/20 [00:03<00:00,  5.52it/s]\n",
            "  0%|          | 0/98 [00:00<?, ?it/s]"
          ],
          "name": "stderr"
        },
        {
          "output_type": "stream",
          "text": [
            "Test Loss= 1.6096015 Test Accuracy= 88.44\n",
            "lr=  0.0052631578947368324\n"
          ],
          "name": "stdout"
        },
        {
          "output_type": "stream",
          "text": [
            "Epoch= 23 Loss=1.5574347972869873 Batch_id=97 Accuracy=94.64: 100%|██████████| 98/98 [00:30<00:00,  3.20it/s]\n",
            "100%|██████████| 20/20 [00:03<00:00,  5.60it/s]\n",
            "  0%|          | 0/98 [00:00<?, ?it/s]"
          ],
          "name": "stderr"
        },
        {
          "output_type": "stream",
          "text": [
            "Test Loss= 1.5695109 Test Accuracy= 89.05\n",
            "lr=  0.0025\n"
          ],
          "name": "stdout"
        },
        {
          "output_type": "stream",
          "text": [
            "Epoch= 24 Loss=1.5657685995101929 Batch_id=97 Accuracy=92.86: 100%|██████████| 98/98 [00:30<00:00,  3.21it/s]\n",
            "100%|██████████| 20/20 [00:03<00:00,  5.51it/s]"
          ],
          "name": "stderr"
        },
        {
          "output_type": "stream",
          "text": [
            "Test Loss= 1.5812193 Test Accuracy= 90.28\n",
            "Finished Training\n"
          ],
          "name": "stdout"
        },
        {
          "output_type": "stream",
          "text": [
            "\n"
          ],
          "name": "stderr"
        }
      ]
    },
    {
      "cell_type": "markdown",
      "metadata": {
        "id": "9G2ZzYbAjhK3",
        "colab_type": "text"
      },
      "source": [
        "#Lr vs Epoch plot "
      ]
    },
    {
      "cell_type": "code",
      "metadata": {
        "id": "76Lo8dj5icc_",
        "colab_type": "code",
        "outputId": "9ae345c4-8c10-4a0f-f250-f62cc2cf2087",
        "colab": {
          "base_uri": "https://localhost:8080/",
          "height": 178
        }
      },
      "source": [
        "import matplotlib.pyplot as plt\n",
        "fig = plt.figure()\n",
        "ax = fig.add_subplot(2, 1, 1)\n",
        "line, = ax.plot(lr_)\n",
        "ax.set_xlabel(\"Learning rate\")\n",
        "ax.set_ylabel(\"Epoch\")"
      ],
      "execution_count": 0,
      "outputs": [
        {
          "output_type": "execute_result",
          "data": {
            "text/plain": [
              "Text(0, 0.5, 'Epoch')"
            ]
          },
          "metadata": {
            "tags": []
          },
          "execution_count": 16
        },
        {
          "output_type": "display_data",
          "data": {
            "image/png": "[encoded data removed]",
            "text/plain": [
              "<Figure size 432x288 with 1 Axes>"
            ]
          },
          "metadata": {
            "tags": [],
            "needs_background": "light"
          }
        }
      ]
    },
    {
      "cell_type": "markdown",
      "metadata": {
        "id": "9Nml3hjD3q8r",
        "colab_type": "text"
      },
      "source": [
        "#Plot Train/Test Accuracy and loss"
      ]
    },
    {
      "cell_type": "code",
      "metadata": {
        "id": "p1H8k0f7BCU7",
        "colab_type": "code",
        "outputId": "47ad1307-755f-4d27-a2d9-9a84869faaee",
        "colab": {
          "base_uri": "https://localhost:8080/",
          "height": 621
        }
      },
      "source": [
        "general_utils.plot_acc_loss(train_acc, test_acc, trainloss_, testloss_)"
      ],
      "execution_count": 0,
      "outputs": [
        {
          "output_type": "display_data",
          "data": {
            "image/png": "[encoded data removed]",
            "text/plain": [
              "<Figure size 720x720 with 4 Axes>"
            ]
          },
          "metadata": {
            "tags": [],
            "needs_background": "light"
          }
        }
      ]
    },
    {
      "cell_type": "markdown",
      "metadata": {
        "id": "YLrvL_fHpoC5",
        "colab_type": "text"
      },
      "source": [
        "#Groundtruth vs Predictions"
      ]
    },
    {
      "cell_type": "code",
      "metadata": {
        "id": "nizbsvw9poC6",
        "colab_type": "code",
        "outputId": "c1272d80-347d-498f-d059-42129e4f3bb7",
        "colab": {
          "base_uri": "https://localhost:8080/",
          "height": 243
        }
      },
      "source": [
        "dataiter = iter(testloader1)\n",
        "images, labels = dataiter.next()\n",
        "\n",
        "# print images\n",
        "general_utils.imshow(torchvision.utils.make_grid(images))\n",
        "print('GT   ', '      '.join('%5s' % classes[labels[j]] for j in range(4)))\n",
        "\n",
        "outputs = net(images.cuda())\n",
        "_, predicted = torch.max(outputs, 1)\n",
        "print('Pred ', '      '.join('%5s' % classes[predicted[j]]\n",
        "                              for j in range(4)))"
      ],
      "execution_count": 0,
      "outputs": [
        {
          "output_type": "stream",
          "text": [
            "WARNING:matplotlib.image:Clipping input data to the valid range for imshow with RGB data ([0..1] for floats or [0..255] for integers).\n"
          ],
          "name": "stderr"
        },
        {
          "output_type": "stream",
          "text": [
            "GT      dog       ship       deer        dog\n",
            "Pred    dog       ship       deer        dog\n"
          ],
          "name": "stdout"
        },
        {
          "output_type": "stream",
          "text": [
            "/content/gdrive/My Drive/Assignment/Model_/S11_resnet.py:61: UserWarning: Implicit dimension choice for softmax has been deprecated. Change the call to include dim=X as an argument.\n",
            "  x = F.softmax(x)\n"
          ],
          "name": "stderr"
        },
        {
          "output_type": "display_data",
          "data": {
            "image/png": "[encoded data removed]",
            "text/plain": [
              "<Figure size 432x288 with 1 Axes>"
            ]
          },
          "metadata": {
            "tags": [],
            "needs_background": "light"
          }
        }
      ]
    },
    {
      "cell_type": "markdown",
      "metadata": {
        "id": "2TV0TXL1poDC",
        "colab_type": "text"
      },
      "source": [
        "The results seem pretty good.\n",
        "\n",
        "Let us look at how the network performs on the whole dataset.\n",
        "\n"
      ]
    },
    {
      "cell_type": "markdown",
      "metadata": {
        "id": "eDdwPBl8poDF",
        "colab_type": "text"
      },
      "source": [
        "#Categorywise predictions\n",
        "\n"
      ]
    },
    {
      "cell_type": "code",
      "metadata": {
        "colab_type": "code",
        "id": "V0N6wYyxDugO",
        "outputId": "9a62792b-2191-400b-ea53-36de57ad562b",
        "colab": {
          "base_uri": "https://localhost:8080/",
          "height": 258
        }
      },
      "source": [
        "from Train_Test_utils.teste import test_categorywise\n",
        "test_categorywise(net, device, testloader, classes)"
      ],
      "execution_count": 0,
      "outputs": [
        {
          "output_type": "stream",
          "text": [
            "  0%|          | 0/20 [00:00<?, ?it/s]/content/gdrive/My Drive/Assignment/Model_/S11_resnet.py:61: UserWarning: Implicit dimension choice for softmax has been deprecated. Change the call to include dim=X as an argument.\n",
            "  x = F.softmax(x)\n",
            "100%|██████████| 20/20 [00:03<00:00,  6.08it/s]"
          ],
          "name": "stderr"
        },
        {
          "output_type": "stream",
          "text": [
            "Accuracy of plane : 80.00 %\n",
            "Accuracy of   car : 100.00 %\n",
            "Accuracy of  bird : 100.00 %\n",
            "Accuracy of   cat : 100.00 %\n",
            "Accuracy of  deer : 88.89 %\n",
            "Accuracy of   dog : 57.14 %\n",
            "Accuracy of  frog : 100.00 %\n",
            "Accuracy of horse : 90.00 %\n",
            "Accuracy of  ship : 100.00 %\n",
            "Accuracy of truck : 100.00 %\n"
          ],
          "name": "stdout"
        },
        {
          "output_type": "stream",
          "text": [
            "\n"
          ],
          "name": "stderr"
        }
      ]
    }
  ]
}