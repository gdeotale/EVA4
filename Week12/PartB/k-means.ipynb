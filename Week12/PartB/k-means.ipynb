{
  "nbformat": 4,
  "nbformat_minor": 0,
  "metadata": {
    "colab": {
      "name": "Untitled",
      "provenance": []
    },
    "kernelspec": {
      "name": "python3",
      "display_name": "Python 3"
    }
  },
  "cells": [
    {
      "cell_type": "markdown",
      "metadata": {
        "id": "F-spQUm3Yld7",
        "colab_type": "text"
      },
      "source": [
        "#Mounting Path"
      ]
    },
    {
      "cell_type": "code",
      "metadata": {
        "id": "d9NnpUX3Xbgj",
        "colab_type": "code",
        "colab": {
          "base_uri": "https://localhost:8080/",
          "height": 139
        },
        "outputId": "4b5ddae8-56fa-4f2b-cce4-a7123daf4438"
      },
      "source": [
        "from google.colab import drive\n",
        "drive.mount('/content/gdrive')\n",
        "%cd /content/gdrive/My\\ Drive/Assignment/"
      ],
      "execution_count": 1,
      "outputs": [
        {
          "output_type": "stream",
          "text": [
            "Go to this URL in a browser: https://accounts.google.com/o/oauth2/auth?client_id=947318989803-6bn6qk8qdgf4n4g3pfee6491hc0brc4i.apps.googleusercontent.com&redirect_uri=urn%3aietf%3awg%3aoauth%3a2.0%3aoob&response_type=code&scope=email%20https%3a%2f%2fwww.googleapis.com%2fauth%2fdocs.test%20https%3a%2f%2fwww.googleapis.com%2fauth%2fdrive%20https%3a%2f%2fwww.googleapis.com%2fauth%2fdrive.photos.readonly%20https%3a%2f%2fwww.googleapis.com%2fauth%2fpeopleapi.readonly\n",
            "\n",
            "Enter your authorization code:\n",
            "··········\n",
            "Mounted at /content/gdrive\n",
            "/content/gdrive/My Drive/Assignment\n"
          ],
          "name": "stdout"
        }
      ]
    },
    {
      "cell_type": "markdown",
      "metadata": {
        "id": "9Z1MbYRnYpZ5",
        "colab_type": "text"
      },
      "source": [
        "#Importing paths"
      ]
    },
    {
      "cell_type": "code",
      "metadata": {
        "id": "le8H6R74XhNo",
        "colab_type": "code",
        "colab": {
          "base_uri": "https://localhost:8080/",
          "height": 71
        },
        "outputId": "9dc4789e-ca79-441e-80f6-0a4de840466f"
      },
      "source": [
        "import sys\n",
        "import os \n",
        "import numpy as np\n",
        "import pandas as pd\n",
        "import json\n",
        "from matplotlib import pyplot as plt\n",
        "from sklearn.datasets.samples_generator import make_blobs\n",
        "from sklearn.cluster import KMeans"
      ],
      "execution_count": 2,
      "outputs": [
        {
          "output_type": "stream",
          "text": [
            "/usr/local/lib/python3.6/dist-packages/sklearn/utils/deprecation.py:144: FutureWarning: The sklearn.datasets.samples_generator module is  deprecated in version 0.22 and will be removed in version 0.24. The corresponding classes / functions should instead be imported from sklearn.datasets. Anything that cannot be imported from sklearn.datasets is now part of the private API.\n",
            "  warnings.warn(message, FutureWarning)\n"
          ],
          "name": "stderr"
        }
      ]
    },
    {
      "cell_type": "markdown",
      "metadata": {
        "id": "eS4wmZN6Zi2i",
        "colab_type": "text"
      },
      "source": [
        "#Read COCO JSON File"
      ]
    },
    {
      "cell_type": "code",
      "metadata": {
        "id": "jIrb7_lGYwru",
        "colab_type": "code",
        "colab": {
          "base_uri": "https://localhost:8080/",
          "height": 34
        },
        "outputId": "a4b01587-0a91-4fc2-95a7-c625bc8a156d"
      },
      "source": [
        "fptr = open('CocoData/via_export_coco.json')\n",
        "data = json.load(fptr)\n",
        "print(data.keys())"
      ],
      "execution_count": 6,
      "outputs": [
        {
          "output_type": "stream",
          "text": [
            "dict_keys(['info', 'images', 'annotations', 'licenses', 'categories'])\n"
          ],
          "name": "stdout"
        }
      ]
    },
    {
      "cell_type": "markdown",
      "metadata": {
        "id": "Yw8t9uBVZfnD",
        "colab_type": "text"
      },
      "source": [
        "#Extract Details"
      ]
    },
    {
      "cell_type": "code",
      "metadata": {
        "id": "k0aXoYHmY_mW",
        "colab_type": "code",
        "colab": {
          "base_uri": "https://localhost:8080/",
          "height": 204
        },
        "outputId": "94bc5c2b-99a0-4dba-df3d-b207908c7256"
      },
      "source": [
        "images_df = pd.DataFrame(data['images'], columns = data['images'][0].keys())\n",
        "annotations_df = pd.DataFrame(data['annotations'], columns = data['annotations'][0].keys())\n",
        "images_df.head()"
      ],
      "execution_count": 9,
      "outputs": [
        {
          "output_type": "execute_result",
          "data": {
            "text/html": [
              "<div>\n",
              "<style scoped>\n",
              "    .dataframe tbody tr th:only-of-type {\n",
              "        vertical-align: middle;\n",
              "    }\n",
              "\n",
              "    .dataframe tbody tr th {\n",
              "        vertical-align: top;\n",
              "    }\n",
              "\n",
              "    .dataframe thead th {\n",
              "        text-align: right;\n",
              "    }\n",
              "</style>\n",
              "<table border=\"1\" class=\"dataframe\">\n",
              "  <thead>\n",
              "    <tr style=\"text-align: right;\">\n",
              "      <th></th>\n",
              "      <th>id</th>\n",
              "      <th>width</th>\n",
              "      <th>height</th>\n",
              "      <th>file_name</th>\n",
              "      <th>license</th>\n",
              "      <th>date_captured</th>\n",
              "    </tr>\n",
              "  </thead>\n",
              "  <tbody>\n",
              "    <tr>\n",
              "      <th>0</th>\n",
              "      <td>0</td>\n",
              "      <td>500</td>\n",
              "      <td>364</td>\n",
              "      <td>5b6cd4e739d95d260290c3578a86b7cf.jpg</td>\n",
              "      <td>1</td>\n",
              "      <td></td>\n",
              "    </tr>\n",
              "    <tr>\n",
              "      <th>1</th>\n",
              "      <td>1</td>\n",
              "      <td>1000</td>\n",
              "      <td>799</td>\n",
              "      <td>55_1400x.jpg</td>\n",
              "      <td>1</td>\n",
              "      <td></td>\n",
              "    </tr>\n",
              "    <tr>\n",
              "      <th>2</th>\n",
              "      <td>2</td>\n",
              "      <td>425</td>\n",
              "      <td>422</td>\n",
              "      <td>71bSvPgSGHL._AC_SX425_.jpg</td>\n",
              "      <td>1</td>\n",
              "      <td></td>\n",
              "    </tr>\n",
              "    <tr>\n",
              "      <th>3</th>\n",
              "      <td>3</td>\n",
              "      <td>365</td>\n",
              "      <td>478</td>\n",
              "      <td>084e211d9d2616da4b8856ee0ab1048c.jpg</td>\n",
              "      <td>1</td>\n",
              "      <td></td>\n",
              "    </tr>\n",
              "    <tr>\n",
              "      <th>4</th>\n",
              "      <td>4</td>\n",
              "      <td>219</td>\n",
              "      <td>182</td>\n",
              "      <td>220px-PomeranianJPG.jpg</td>\n",
              "      <td>1</td>\n",
              "      <td></td>\n",
              "    </tr>\n",
              "  </tbody>\n",
              "</table>\n",
              "</div>"
            ],
            "text/plain": [
              "   id  width  ...  license date_captured\n",
              "0   0    500  ...        1              \n",
              "1   1   1000  ...        1              \n",
              "2   2    425  ...        1              \n",
              "3   3    365  ...        1              \n",
              "4   4    219  ...        1              \n",
              "\n",
              "[5 rows x 6 columns]"
            ]
          },
          "metadata": {
            "tags": []
          },
          "execution_count": 9
        }
      ]
    },
    {
      "cell_type": "code",
      "metadata": {
        "id": "M7a_pDBBZmik",
        "colab_type": "code",
        "colab": {
          "base_uri": "https://localhost:8080/",
          "height": 204
        },
        "outputId": "b6caced1-cff2-4cd2-8415-b6dc4e206b65"
      },
      "source": [
        "annotations_df.head()"
      ],
      "execution_count": 8,
      "outputs": [
        {
          "output_type": "execute_result",
          "data": {
            "text/html": [
              "<div>\n",
              "<style scoped>\n",
              "    .dataframe tbody tr th:only-of-type {\n",
              "        vertical-align: middle;\n",
              "    }\n",
              "\n",
              "    .dataframe tbody tr th {\n",
              "        vertical-align: top;\n",
              "    }\n",
              "\n",
              "    .dataframe thead th {\n",
              "        text-align: right;\n",
              "    }\n",
              "</style>\n",
              "<table border=\"1\" class=\"dataframe\">\n",
              "  <thead>\n",
              "    <tr style=\"text-align: right;\">\n",
              "      <th></th>\n",
              "      <th>id</th>\n",
              "      <th>image_id</th>\n",
              "      <th>segmentation</th>\n",
              "      <th>area</th>\n",
              "      <th>bbox</th>\n",
              "      <th>iscrowd</th>\n",
              "    </tr>\n",
              "  </thead>\n",
              "  <tbody>\n",
              "    <tr>\n",
              "      <th>0</th>\n",
              "      <td>0</td>\n",
              "      <td>0</td>\n",
              "      <td>[141, 41, 413, 41, 413, 256, 141, 256]</td>\n",
              "      <td>58480</td>\n",
              "      <td>[141, 41, 272, 215]</td>\n",
              "      <td>0</td>\n",
              "    </tr>\n",
              "    <tr>\n",
              "      <th>1</th>\n",
              "      <td>1</td>\n",
              "      <td>1</td>\n",
              "      <td>[295, 168, 721, 168, 721, 773, 295, 773]</td>\n",
              "      <td>257730</td>\n",
              "      <td>[295, 168, 426, 605]</td>\n",
              "      <td>0</td>\n",
              "    </tr>\n",
              "    <tr>\n",
              "      <th>2</th>\n",
              "      <td>2</td>\n",
              "      <td>2</td>\n",
              "      <td>[22, 7, 380, 7, 380, 413, 22, 413]</td>\n",
              "      <td>145348</td>\n",
              "      <td>[22, 7, 358, 406]</td>\n",
              "      <td>0</td>\n",
              "    </tr>\n",
              "    <tr>\n",
              "      <th>3</th>\n",
              "      <td>3</td>\n",
              "      <td>3</td>\n",
              "      <td>[5, 29, 362, 29, 362, 403, 5, 403]</td>\n",
              "      <td>133518</td>\n",
              "      <td>[5, 29, 357, 374]</td>\n",
              "      <td>0</td>\n",
              "    </tr>\n",
              "    <tr>\n",
              "      <th>4</th>\n",
              "      <td>4</td>\n",
              "      <td>4</td>\n",
              "      <td>[11, 8, 207, 8, 207, 179, 11, 179]</td>\n",
              "      <td>33516</td>\n",
              "      <td>[11, 8, 196, 171]</td>\n",
              "      <td>0</td>\n",
              "    </tr>\n",
              "  </tbody>\n",
              "</table>\n",
              "</div>"
            ],
            "text/plain": [
              "   id image_id  ...                  bbox  iscrowd\n",
              "0   0        0  ...   [141, 41, 272, 215]        0\n",
              "1   1        1  ...  [295, 168, 426, 605]        0\n",
              "2   2        2  ...     [22, 7, 358, 406]        0\n",
              "3   3        3  ...     [5, 29, 357, 374]        0\n",
              "4   4        4  ...     [11, 8, 196, 171]        0\n",
              "\n",
              "[5 rows x 6 columns]"
            ]
          },
          "metadata": {
            "tags": []
          },
          "execution_count": 8
        }
      ]
    },
    {
      "cell_type": "markdown",
      "metadata": {
        "id": "cgn_IqQbcUqs",
        "colab_type": "text"
      },
      "source": [
        "#Merging important data"
      ]
    },
    {
      "cell_type": "code",
      "metadata": {
        "id": "M-42Os14bEhR",
        "colab_type": "code",
        "colab": {
          "base_uri": "https://localhost:8080/",
          "height": 204
        },
        "outputId": "3ba77ac8-bcbc-4f3b-c3e9-bd01174fa90a"
      },
      "source": [
        "imp_df = pd.concat([images_df, annotations_df], 1)[['file_name', 'width', 'height', 'bbox']]\n",
        "x_ = []\n",
        "y_ = []\n",
        "w_ = []\n",
        "h_ = [] \n",
        "for row in range(imp_df.shape[0]):\n",
        "  x_.append(imp_df['bbox'][row][0])\n",
        "  y_.append(imp_df['bbox'][row][1])\n",
        "  w_.append(imp_df['bbox'][row][2])\n",
        "  h_.append(imp_df['bbox'][row][3])\n",
        "box_df = pd.DataFrame(list(zip(x_, y_, w_, h_)), columns =['x', 'y', 'box_width', 'box_height'])\n",
        "imp_df = pd.concat([imp_df, box_df], 1)\n",
        "imp_df = imp_df.drop('bbox', axis =1)\n",
        "imp_df.head()"
      ],
      "execution_count": 15,
      "outputs": [
        {
          "output_type": "execute_result",
          "data": {
            "text/html": [
              "<div>\n",
              "<style scoped>\n",
              "    .dataframe tbody tr th:only-of-type {\n",
              "        vertical-align: middle;\n",
              "    }\n",
              "\n",
              "    .dataframe tbody tr th {\n",
              "        vertical-align: top;\n",
              "    }\n",
              "\n",
              "    .dataframe thead th {\n",
              "        text-align: right;\n",
              "    }\n",
              "</style>\n",
              "<table border=\"1\" class=\"dataframe\">\n",
              "  <thead>\n",
              "    <tr style=\"text-align: right;\">\n",
              "      <th></th>\n",
              "      <th>file_name</th>\n",
              "      <th>width</th>\n",
              "      <th>height</th>\n",
              "      <th>x</th>\n",
              "      <th>y</th>\n",
              "      <th>box_width</th>\n",
              "      <th>box_height</th>\n",
              "    </tr>\n",
              "  </thead>\n",
              "  <tbody>\n",
              "    <tr>\n",
              "      <th>0</th>\n",
              "      <td>5b6cd4e739d95d260290c3578a86b7cf.jpg</td>\n",
              "      <td>500</td>\n",
              "      <td>364</td>\n",
              "      <td>141</td>\n",
              "      <td>41</td>\n",
              "      <td>272</td>\n",
              "      <td>215</td>\n",
              "    </tr>\n",
              "    <tr>\n",
              "      <th>1</th>\n",
              "      <td>55_1400x.jpg</td>\n",
              "      <td>1000</td>\n",
              "      <td>799</td>\n",
              "      <td>295</td>\n",
              "      <td>168</td>\n",
              "      <td>426</td>\n",
              "      <td>605</td>\n",
              "    </tr>\n",
              "    <tr>\n",
              "      <th>2</th>\n",
              "      <td>71bSvPgSGHL._AC_SX425_.jpg</td>\n",
              "      <td>425</td>\n",
              "      <td>422</td>\n",
              "      <td>22</td>\n",
              "      <td>7</td>\n",
              "      <td>358</td>\n",
              "      <td>406</td>\n",
              "    </tr>\n",
              "    <tr>\n",
              "      <th>3</th>\n",
              "      <td>084e211d9d2616da4b8856ee0ab1048c.jpg</td>\n",
              "      <td>365</td>\n",
              "      <td>478</td>\n",
              "      <td>5</td>\n",
              "      <td>29</td>\n",
              "      <td>357</td>\n",
              "      <td>374</td>\n",
              "    </tr>\n",
              "    <tr>\n",
              "      <th>4</th>\n",
              "      <td>220px-PomeranianJPG.jpg</td>\n",
              "      <td>219</td>\n",
              "      <td>182</td>\n",
              "      <td>11</td>\n",
              "      <td>8</td>\n",
              "      <td>196</td>\n",
              "      <td>171</td>\n",
              "    </tr>\n",
              "  </tbody>\n",
              "</table>\n",
              "</div>"
            ],
            "text/plain": [
              "                              file_name  width  ...  box_width  box_height\n",
              "0  5b6cd4e739d95d260290c3578a86b7cf.jpg    500  ...        272         215\n",
              "1                          55_1400x.jpg   1000  ...        426         605\n",
              "2            71bSvPgSGHL._AC_SX425_.jpg    425  ...        358         406\n",
              "3  084e211d9d2616da4b8856ee0ab1048c.jpg    365  ...        357         374\n",
              "4               220px-PomeranianJPG.jpg    219  ...        196         171\n",
              "\n",
              "[5 rows x 7 columns]"
            ]
          },
          "metadata": {
            "tags": []
          },
          "execution_count": 15
        }
      ]
    },
    {
      "cell_type": "markdown",
      "metadata": {
        "id": "e9shwWp6fJ7x",
        "colab_type": "text"
      },
      "source": [
        "#Normalize"
      ]
    },
    {
      "cell_type": "code",
      "metadata": {
        "id": "fYVCQAWweBTr",
        "colab_type": "code",
        "colab": {
          "base_uri": "https://localhost:8080/",
          "height": 204
        },
        "outputId": "0c5e6cb9-9cb8-4aea-c287-7d3e61576b2d"
      },
      "source": [
        "imp_df['x'] = imp_df['x'] / imp_df['width']\n",
        "imp_df['y'] = imp_df['y'] / imp_df['height']\n",
        "imp_df['box_width'] = imp_df['box_width'] / imp_df['width']\n",
        "imp_df['box_height'] = imp_df['box_height'] / imp_df['height']\n",
        "imp_df.head()"
      ],
      "execution_count": 16,
      "outputs": [
        {
          "output_type": "execute_result",
          "data": {
            "text/html": [
              "<div>\n",
              "<style scoped>\n",
              "    .dataframe tbody tr th:only-of-type {\n",
              "        vertical-align: middle;\n",
              "    }\n",
              "\n",
              "    .dataframe tbody tr th {\n",
              "        vertical-align: top;\n",
              "    }\n",
              "\n",
              "    .dataframe thead th {\n",
              "        text-align: right;\n",
              "    }\n",
              "</style>\n",
              "<table border=\"1\" class=\"dataframe\">\n",
              "  <thead>\n",
              "    <tr style=\"text-align: right;\">\n",
              "      <th></th>\n",
              "      <th>file_name</th>\n",
              "      <th>width</th>\n",
              "      <th>height</th>\n",
              "      <th>x</th>\n",
              "      <th>y</th>\n",
              "      <th>box_width</th>\n",
              "      <th>box_height</th>\n",
              "    </tr>\n",
              "  </thead>\n",
              "  <tbody>\n",
              "    <tr>\n",
              "      <th>0</th>\n",
              "      <td>5b6cd4e739d95d260290c3578a86b7cf.jpg</td>\n",
              "      <td>500</td>\n",
              "      <td>364</td>\n",
              "      <td>0.282000</td>\n",
              "      <td>0.112637</td>\n",
              "      <td>0.544000</td>\n",
              "      <td>0.590659</td>\n",
              "    </tr>\n",
              "    <tr>\n",
              "      <th>1</th>\n",
              "      <td>55_1400x.jpg</td>\n",
              "      <td>1000</td>\n",
              "      <td>799</td>\n",
              "      <td>0.295000</td>\n",
              "      <td>0.210263</td>\n",
              "      <td>0.426000</td>\n",
              "      <td>0.757196</td>\n",
              "    </tr>\n",
              "    <tr>\n",
              "      <th>2</th>\n",
              "      <td>71bSvPgSGHL._AC_SX425_.jpg</td>\n",
              "      <td>425</td>\n",
              "      <td>422</td>\n",
              "      <td>0.051765</td>\n",
              "      <td>0.016588</td>\n",
              "      <td>0.842353</td>\n",
              "      <td>0.962085</td>\n",
              "    </tr>\n",
              "    <tr>\n",
              "      <th>3</th>\n",
              "      <td>084e211d9d2616da4b8856ee0ab1048c.jpg</td>\n",
              "      <td>365</td>\n",
              "      <td>478</td>\n",
              "      <td>0.013699</td>\n",
              "      <td>0.060669</td>\n",
              "      <td>0.978082</td>\n",
              "      <td>0.782427</td>\n",
              "    </tr>\n",
              "    <tr>\n",
              "      <th>4</th>\n",
              "      <td>220px-PomeranianJPG.jpg</td>\n",
              "      <td>219</td>\n",
              "      <td>182</td>\n",
              "      <td>0.050228</td>\n",
              "      <td>0.043956</td>\n",
              "      <td>0.894977</td>\n",
              "      <td>0.939560</td>\n",
              "    </tr>\n",
              "  </tbody>\n",
              "</table>\n",
              "</div>"
            ],
            "text/plain": [
              "                              file_name  width  ...  box_width  box_height\n",
              "0  5b6cd4e739d95d260290c3578a86b7cf.jpg    500  ...   0.544000    0.590659\n",
              "1                          55_1400x.jpg   1000  ...   0.426000    0.757196\n",
              "2            71bSvPgSGHL._AC_SX425_.jpg    425  ...   0.842353    0.962085\n",
              "3  084e211d9d2616da4b8856ee0ab1048c.jpg    365  ...   0.978082    0.782427\n",
              "4               220px-PomeranianJPG.jpg    219  ...   0.894977    0.939560\n",
              "\n",
              "[5 rows x 7 columns]"
            ]
          },
          "metadata": {
            "tags": []
          },
          "execution_count": 16
        }
      ]
    },
    {
      "cell_type": "markdown",
      "metadata": {
        "id": "teoy1aLdf0_3",
        "colab_type": "text"
      },
      "source": [
        "#Taking only boxwidth and boxheight"
      ]
    },
    {
      "cell_type": "code",
      "metadata": {
        "id": "rtHr0Z_ffhJF",
        "colab_type": "code",
        "colab": {
          "base_uri": "https://localhost:8080/",
          "height": 284
        },
        "outputId": "05060c76-2994-423b-adbc-942f60ad5366"
      },
      "source": [
        "imp_stripped = imp_df[[\"box_width\", \"box_height\"]].to_numpy()\n",
        "plt.scatter(imp_stripped[:,0], imp_stripped[:,1])"
      ],
      "execution_count": 17,
      "outputs": [
        {
          "output_type": "execute_result",
          "data": {
            "text/plain": [
              "<matplotlib.collections.PathCollection at 0x7ff4764434e0>"
            ]
          },
          "metadata": {
            "tags": []
          },
          "execution_count": 17
        },
        {
          "output_type": "display_data",
          "data": {
            "image/png": "[encoded data removed]",
            "text/plain": [
              "<Figure size 432x288 with 1 Axes>"
            ]
          },
          "metadata": {
            "tags": [],
            "needs_background": "light"
          }
        }
      ]
    },
    {
      "cell_type": "markdown",
      "metadata": {
        "id": "7AOHLDi3gOMc",
        "colab_type": "text"
      },
      "source": [
        "#Elbow Method"
      ]
    },
    {
      "cell_type": "code",
      "metadata": {
        "id": "OapeOVHRgFjW",
        "colab_type": "code",
        "colab": {
          "base_uri": "https://localhost:8080/",
          "height": 295
        },
        "outputId": "069ef613-7b51-47a1-8af7-0445419a8148"
      },
      "source": [
        "wcss = []\n",
        "for i in range(1, 11):\n",
        "    kmeans = KMeans(n_clusters=i, init='k-means++', max_iter=300, n_init=10, random_state=0)\n",
        "    kmeans.fit(imp_stripped)\n",
        "    wcss.append(kmeans.inertia_)\n",
        "plt.plot(range(1, 11), wcss)\n",
        "plt.title('Elbow Method')\n",
        "plt.xlabel('Number of clusters')\n",
        "plt.ylabel('WCSS')\n",
        "plt.show()"
      ],
      "execution_count": 18,
      "outputs": [
        {
          "output_type": "display_data",
          "data": {
            "image/png": "[encoded data removed]",
            "text/plain": [
              "<Figure size 432x288 with 1 Axes>"
            ]
          },
          "metadata": {
            "tags": [],
            "needs_background": "light"
          }
        }
      ]
    },
    {
      "cell_type": "markdown",
      "metadata": {
        "id": "_lL5Y6sagofv",
        "colab_type": "text"
      },
      "source": [
        "#clustering using 3 - means algo\n",
        "Although elbow method points out at 4 clusters, by visualization 3 clusters look better option"
      ]
    },
    {
      "cell_type": "code",
      "metadata": {
        "id": "rV6EoGfGgaB-",
        "colab_type": "code",
        "colab": {
          "base_uri": "https://localhost:8080/",
          "height": 267
        },
        "outputId": "92633322-10b1-4795-cb1f-d92741dad649"
      },
      "source": [
        "kmeans = KMeans(n_clusters=3, init='k-means++', max_iter=300, n_init=10, random_state=0)\n",
        "pred_y = kmeans.fit_predict(imp_stripped)\n",
        "plt.scatter(imp_stripped[:,0], imp_stripped[:,1])\n",
        "plt.scatter(kmeans.cluster_centers_[:, 0], kmeans.cluster_centers_[:, 1], s=300, c='red')\n",
        "plt.show()"
      ],
      "execution_count": 22,
      "outputs": [
        {
          "output_type": "display_data",
          "data": {
            "image/png": "[encoded data removed]",
            "text/plain": [
              "<Figure size 432x288 with 1 Axes>"
            ]
          },
          "metadata": {
            "tags": [],
            "needs_background": "light"
          }
        }
      ]
    },
    {
      "cell_type": "code",
      "metadata": {
        "id": "1iuEOFHBgw1N",
        "colab_type": "code",
        "colab": {}
      },
      "source": [
        ""
      ],
      "execution_count": 0,
      "outputs": []
    }
  ]
}